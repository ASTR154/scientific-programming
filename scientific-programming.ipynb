{
 "cells": [
  {
   "cell_type": "markdown",
   "id": "3dc34a97-4085-4fa6-86f6-bcc0c7976e12",
   "metadata": {},
   "source": [
    "# Intro to Scientific Programming\n",
    "By G Hosseinzadeh 2025 Apr 15"
   ]
  },
  {
   "cell_type": "markdown",
   "id": "123f13f8-e837-47f8-876b-fc7f5c0b2479",
   "metadata": {},
   "source": [
    "Let's imagine you want to generate synthetic spectra of different types of stars. The figure below shows approximate temperature and radius ranges for each type. In reality they have some absorption lines (shown at left), but for now let's approximate them as perfect blackbody emitters."
   ]
  },
  {
   "cell_type": "markdown",
   "id": "58dc0958-a8fb-4dab-84ff-a97623afc499",
   "metadata": {},
   "source": [
    "![main sequence stars](https://upload.wikimedia.org/wikipedia/commons/3/37/Stellar_Classification_Chart.png)  \n",
    "Credit: Pablo Carlos Budassi (Wikimedia.org)"
   ]
  },
  {
   "cell_type": "markdown",
   "id": "8e62c134-dae0-4295-80aa-8ffd7a40f433",
   "metadata": {},
   "source": [
    "The Planck function gives the spectral radiance $(B_\\lambda \\equiv \\frac{dE}{dt\\,d\\lambda\\,dA\\,d\\Omega})$ of the stellar photosphere for a given temperature:\n",
    "$$B_\\lambda = \\frac{2 h c^2}{\\lambda^5} \\frac{1}{\\exp\\left(\\frac{h c}{\\lambda k_B T}\\right) - 1}$$\n",
    "\n",
    "Spectral flux $(F_\\lambda \\equiv \\frac{dE}{dt\\,d\\lambda\\,dA})$ is the integral of the component of the spectral radiance **in the direction of the observer** $(\\cos\\theta)$:\n",
    "$$F_\\lambda = \\iint B_\\lambda \\cos\\theta \\,d\\Omega = B_\\lambda \\int_0^{2\\pi} \\int_0^{\\pi/2} \\cos\\theta \\sin\\theta \\,d\\theta \\,d\\phi = \\pi B_\\lambda$$\n",
    "\n",
    "Spectral luminosity $(L_\\lambda \\equiv \\frac{dE}{dt\\,d\\lambda})$ is the integral over the surface area of the stellar photosphere:\n",
    "$$L_\\lambda = \\iint F_\\lambda \\,dA = F_\\lambda \\int_0^{2\\pi} \\int_{0}^{\\pi} R^2 \\sin\\theta \\,d\\theta \\,d\\phi = 4 \\pi R^2 F_\\lambda$$\n",
    "\n",
    "Put that all together:\n",
    "$$L_\\lambda = \\frac{8 \\pi^2 R^2 h c^2}{\\lambda^5} \\frac{1}{\\exp\\left(\\frac{h c}{\\lambda k_B T}\\right) - 1}$$\n",
    "\n",
    "\n",
    "This gives you the spectral luminosity as a function of wavelength $\\lambda$ for a star with temperature $T$ and radius $R$. We're going to implement this equation in Python in three different ways:\n",
    "* using only the built-in math module (this contains the constant $\\pi$ and the exponential function)\n",
    "* using NumPy arrays\n",
    "* using Astropy quantities\n",
    "\n",
    "Then calculate spectra for each of the 7 classes of stars (OBAFGKM). In each case, plot the resulting spectra ($L_\\lambda$ vs. $\\lambda$) to check your work. (Hint: a logarithmic $y$-axis might help.)"
   ]
  },
  {
   "cell_type": "code",
   "execution_count": 1,
   "id": "02150d82-ce52-49f3-9c8e-0e0d50f238b6",
   "metadata": {},
   "outputs": [],
   "source": [
    "import matplotlib.pyplot as plt  # we'll learn more about this next time; for now just use plt.plot(x, y)\n",
    "import math "
   ]
  },
  {
   "cell_type": "markdown",
   "id": "adbc6232-d9b4-4658-a271-57eeb048cd7e",
   "metadata": {},
   "source": [
    "## Using only the built-in math module"
   ]
  },
  {
   "cell_type": "code",
   "execution_count": 2,
   "id": "ef1bd97e-2c65-47fd-b7ff-de3ad6c49b2f",
   "metadata": {},
   "outputs": [],
   "source": [
    "# physical constants\n",
    "R_SUN = 6.96e8  # m\n",
    "C_LIGHT = 3.00e8  # m / s\n",
    "H_PLANCK = 6.63e-34  # J / Hz\n",
    "K_BOLTZMANN = 1.38e-23  # J / K\n",
    "pi = math.pi\n",
    "L_lamda = (8*(pi**2)*(radii[x]**2)*H_PLANCK*(C_LIGHT**2))/((wavelengths[x])**5)*(1/(2.71**((H_PLANCK*C_LIGHT)/(wavelengths[x]*K_BOLTZMANN*temp[x]))-1))\n",
    "\n"
   ]
  },
  {
   "cell_type": "code",
   "execution_count": 56,
   "id": "c46b6459-af66-471e-9e40-572ae5a77c42",
   "metadata": {},
   "outputs": [
    {
     "name": "stdout",
     "output_type": "stream",
     "text": [
      "[2.7757467991430663e+28, 6.853577229943246e+28, 1.4013907784968767e+29, 2.4858548350239307e+29, 3.9526889346440766e+29, 5.7691203555395e+29, 7.865973198807706e+29, 7.82362752989126e+30, 1.1852116826284967e+31, 1.6131743619737513e+31, 2.0280839282918932e+31, 2.401148710421099e+31, 2.714673389476145e+31, 2.9608166214865858e+31, 2.1038522644788327e+32, 2.4627608818922575e+32, 2.705144542570764e+32, 2.8381487163387957e+32, 2.8792839252065517e+32, 2.8491120053410964e+32, 2.767160050531457e+32, 8.368281570812212e+32, 9.007635586290282e+32, 9.229896996806126e+32, 9.134509573473057e+32, 8.818204542670896e+32, 8.36173504753801e+32, 7.826845873473946e+32, 4.6280819294017974e+33, 4.474545052203328e+33, 4.1963613644540894e+33, 3.856438141221184e+33, 3.496565685165197e+33, 3.1423553229343236e+33, 2.8081948745231313e+33, 1.0888032871479685e+35, 9.49158136078332e+34, 8.177522010123465e+34, 7.003230894866656e+34, 5.983417009070456e+34, 5.111919643253308e+34, 4.373702954482797e+34, 4.239713933472834e+36, 3.0875815170747224e+36, 2.2981021615901174e+36, 1.7437464219280052e+36, 1.3458873193841542e+36, 1.0547039912724532e+36, 8.378209279864904e+35]\n"
     ]
    },
    {
     "data": {
      "text/plain": [
       "Text(0, 0.5, 'Spectral Luminosity')"
      ]
     },
     "execution_count": 56,
     "metadata": {},
     "output_type": "execute_result"
    },
    {
     "data": {
      "image/png": "[encoded data removed]",
      "text/plain": [
       "<Figure size 640x480 with 1 Axes>"
      ]
     },
     "metadata": {},
     "output_type": "display_data"
    }
   ],
   "source": [
    "wavelengths =  [400E-9, 440E-9, 480E-9, 520E-9, 560E-9, 600E-9, 640E-9 ] #in meters \n",
    "temperatures =  [2100, 3400, 4900, 5700, 7200, 9700,30000] #in Celsius\n",
    "radii = [0.7, 0.8, 1, 1.25, 1.6, 4.2, 6.6]  #in Solar mass \n",
    "\n",
    "def temp_to_kelvin(temp):#turns celsius to kelvin\n",
    "    lst = []\n",
    "    for temperature in temperatures:\n",
    "        convert = temperature + 273\n",
    "        lst.append(convert)\n",
    "    return lst\n",
    "    \n",
    "converted_temps = temp_to_kelvin(temperatures)\n",
    "#print(converted_temps)\n",
    "\n",
    "def solar_radii_to_meters(radius):#turns solar radii to meters\n",
    "    lst = []\n",
    "    for radii in radius:\n",
    "        convert = radii * (6.957*(10**8))\n",
    "        lst.append(convert)\n",
    "    return lst\n",
    "\n",
    "converted_radii = solar_radii_to_meters(radii)\n",
    "#print(converted_radii)\n",
    "\n",
    "def spectral_luminosity(wavelength, temp, radii):\n",
    "    lst = []\n",
    "    for y in range(len(wavelength)):\n",
    "        t = temp[y]\n",
    "        r = radii[y]\n",
    "        for x in range(len(wavelength)):\n",
    "            first_top_fract =(8*(pi**2)*(r**2)*H_PLANCK*(C_LIGHT**2))\n",
    "            first_bot_fract = (wavelengths[x])**5\n",
    "            second_bot_fract = (math.exp((H_PLANCK*C_LIGHT)/(wavelengths[x]*K_BOLTZMANN*t))-1)\n",
    "            total = first_top_fract/first_bot_fract *(1/second_bot_fract)\n",
    "            lst.append(total)\n",
    "    return lst\n",
    "\n",
    "spectral_L =spectral_luminosity(wavelengths, converted_temps, converted_radii)\n",
    "\n",
    "print(spectral_L)\n",
    "plt.plot(wavelengths,spectral_L[0:7])\n",
    "plt.plot(wavelengths,spectral_L[7:14])\n",
    "plt.plot(wavelengths,spectral_L[14:21])\n",
    "plt.plot(wavelengths,spectral_L[21:28])\n",
    "plt.plot(wavelengths,spectral_L[28:35])\n",
    "plt.plot(wavelengths,spectral_L[35:42])\n",
    "plt.plot(wavelengths,spectral_L[42:49])\n",
    "\n",
    "plt.yscale(\"log\")\n",
    "plt.xlabel(\"Wavelength [m]\")\n",
    "plt.ylabel(\"Spectral Luminosity\")\n",
    "\n",
    "\n",
    "#print(len(temperatures))\n",
    "#print(len(radii))"
   ]
  },
  {
   "cell_type": "code",
   "execution_count": 57,
   "id": "7e3b6d7b-45e4-4e30-bf21-b78c91778a57",
   "metadata": {},
   "outputs": [
    {
     "ename": "SyntaxError",
     "evalue": "invalid syntax (3929794588.py, line 1)",
     "output_type": "error",
     "traceback": [
      "  \u001b[36mCell\u001b[39m\u001b[36m \u001b[39m\u001b[32mIn[57]\u001b[39m\u001b[32m, line 1\u001b[39m\n\u001b[31m    \u001b[39m\u001b[31mfor\u001b[39m\n        ^\n\u001b[31mSyntaxError\u001b[39m\u001b[31m:\u001b[39m invalid syntax\n"
     ]
    }
   ],
   "source": [
    "\n"
   ]
  },
  {
   "cell_type": "code",
   "execution_count": null,
   "id": "1e550dff-6237-457b-94ac-4835dc037ae1",
   "metadata": {},
   "outputs": [],
   "source": [
    "# plot the results"
   ]
  },
  {
   "cell_type": "markdown",
   "id": "a144859c-a025-4cf9-9d66-3210b1fcddbf",
   "metadata": {},
   "source": [
    "## Now with NumPy Arrays"
   ]
  },
  {
   "cell_type": "code",
   "execution_count": null,
   "id": "92d04b69-4aca-4900-8b33-123d4c66b488",
   "metadata": {},
   "outputs": [],
   "source": [
    "import numpy as np"
   ]
  },
  {
   "cell_type": "code",
   "execution_count": null,
   "id": "58e3ce4f-5225-4df4-821e-262fb6f7b5a9",
   "metadata": {},
   "outputs": [],
   "source": [
    "wavelengths =  # complete with numpy array\n",
    "temperatures =  # complete with numpy array\n",
    "radii =  # complete with numpy array"
   ]
  },
  {
   "cell_type": "code",
   "execution_count": null,
   "id": "68f2913d-f503-40e5-883f-7cb94abe99ee",
   "metadata": {},
   "outputs": [],
   "source": [
    "# do the calculation"
   ]
  },
  {
   "cell_type": "code",
   "execution_count": null,
   "id": "9df12457-9301-4668-89fe-8462846e230e",
   "metadata": {},
   "outputs": [],
   "source": [
    "# plot the results"
   ]
  },
  {
   "cell_type": "markdown",
   "id": "c0ca6a41-e26f-4488-ab30-2ab8e5b8a7bb",
   "metadata": {},
   "source": [
    "## Now with Astropy Quantities"
   ]
  },
  {
   "cell_type": "code",
   "execution_count": null,
   "id": "90986067-a38a-442c-986e-38b1d9fc9efe",
   "metadata": {},
   "outputs": [],
   "source": [
    "from astropy import units as u\n",
    "from astropy import constants as const\n",
    "from astropy.visualization import quantity_support\n",
    "quantity_support()  "
   ]
  },
  {
   "cell_type": "code",
   "execution_count": null,
   "id": "4be06b43-4c42-4a82-8175-3b420721f82b",
   "metadata": {},
   "outputs": [],
   "source": [
    "wavelengths =  # complete with astropy quantity\n",
    "temperatures =  # complete with astropy quantity\n",
    "radii =  # complete with astropy quantity"
   ]
  },
  {
   "cell_type": "code",
   "execution_count": null,
   "id": "a62f76dc-4161-47dc-b376-00b522c2c428",
   "metadata": {},
   "outputs": [],
   "source": [
    "# do the calculation"
   ]
  },
  {
   "cell_type": "code",
   "execution_count": null,
   "id": "cd40a44f-f089-4c91-9cce-29d24cfc3aa2",
   "metadata": {},
   "outputs": [],
   "source": [
    "# plot the results"
   ]
  },
  {
   "cell_type": "markdown",
   "id": "f9b54db7-dc14-43c4-a68a-82faeef02413",
   "metadata": {},
   "source": [
    "## Compare the performance of these three methods\n",
    "Add the `%%timeit` magic command at the top of each calculation cell to see how long it takes to run. Which is fastest? Which is most convenient?\n",
    "\n",
    "Now increase the number of wavelength samples you are using by a factor of 10. How does this change your timing results?\n",
    "\n",
    "In reality, which one would you use if you had to do this calculation for 7 stars? Which one would you use if you had to do this calculation for a billion stars (the size of the Gaia catalog)?"
   ]
  },
  {
   "cell_type": "markdown",
   "id": "a60f3960-0585-4f4c-9c70-1bffacc84a7e",
   "metadata": {},
   "source": [
    "(Write your answers here.)"
   ]
  },
  {
   "cell_type": "markdown",
   "id": "63b18ed7-f3be-477a-8021-b273a0eb563f",
   "metadata": {},
   "source": [
    "## Save your results using an Astropy Table"
   ]
  },
  {
   "cell_type": "code",
   "execution_count": null,
   "id": "a647526f-b01c-4e0b-baaa-c175ed87c3aa",
   "metadata": {},
   "outputs": [],
   "source": [
    "from astropy.table import Table"
   ]
  },
  {
   "cell_type": "code",
   "execution_count": null,
   "id": "fd90f939-0743-4c2a-b7de-238974e207ae",
   "metadata": {},
   "outputs": [],
   "source": [
    "table =  # create an astropy table containing your results\n",
    "table  # look at the results"
   ]
  },
  {
   "cell_type": "code",
   "execution_count": null,
   "id": "4ff43aef-9ddf-49ee-9e0d-b9844f8a4f50",
   "metadata": {},
   "outputs": [],
   "source": [
    "# save your table to a file on your hard drive"
   ]
  },
  {
   "cell_type": "code",
   "execution_count": null,
   "id": "8e38c909-70c9-42a8-9fd9-2377e237306f",
   "metadata": {},
   "outputs": [],
   "source": [
    "table2 =  # read in the file you just saved\n",
    "table2  # look at the results"
   ]
  },
  {
   "cell_type": "code",
   "execution_count": null,
   "id": "3b17b47f-6576-4aac-aefd-3e584eb0666a",
   "metadata": {},
   "outputs": [],
   "source": []
  }
 ],
 "metadata": {
  "kernelspec": {
   "display_name": "Python 3 (ipykernel)",
   "language": "python",
   "name": "python3"
  },
  "language_info": {
   "codemirror_mode": {
    "name": "ipython",
    "version": 3
   },
   "file_extension": ".py",
   "mimetype": "text/x-python",
   "name": "python",
   "nbconvert_exporter": "python",
   "pygments_lexer": "ipython3",
   "version": "3.13.1"
  }
 },
 "nbformat": 4,
 "nbformat_minor": 5
}
