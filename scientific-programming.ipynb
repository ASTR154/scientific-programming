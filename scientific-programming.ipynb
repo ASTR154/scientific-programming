{
 "cells": [
  {
   "cell_type": "markdown",
   "id": "3dc34a97-4085-4fa6-86f6-bcc0c7976e12",
   "metadata": {},
   "source": [
    "# Intro to Scientific Programming\n",
    "By G Hosseinzadeh 2025 Apr 15"
   ]
  },
  {
   "cell_type": "markdown",
   "id": "123f13f8-e837-47f8-876b-fc7f5c0b2479",
   "metadata": {},
   "source": [
    "Let's imagine you want to generate synthetic spectra of different types of stars. The figure below shows approximate temperature and radius ranges for each type. In reality they have some absorption lines (shown at left), but for now let's approximate them as perfect blackbody emitters."
   ]
  },
  {
   "cell_type": "markdown",
   "id": "58dc0958-a8fb-4dab-84ff-a97623afc499",
   "metadata": {},
   "source": [
    "![main sequence stars](https://upload.wikimedia.org/wikipedia/commons/3/37/Stellar_Classification_Chart.png)  \n",
    "Credit: Pablo Carlos Budassi (Wikimedia.org)"
   ]
  },
  {
   "cell_type": "markdown",
   "id": "8e62c134-dae0-4295-80aa-8ffd7a40f433",
   "metadata": {},
   "source": [
    "The Planck function gives the spectral radiance $(B_\\lambda \\equiv \\frac{dE}{dt\\,d\\lambda\\,dA\\,d\\Omega})$ of the stellar photosphere for a given temperature:\n",
    "$$B_\\lambda = \\frac{2 h c^2}{\\lambda^5} \\frac{1}{\\exp\\left(\\frac{h c}{\\lambda k_B T}\\right) - 1}$$\n",
    "\n",
    "Spectral flux $(F_\\lambda \\equiv \\frac{dE}{dt\\,d\\lambda\\,dA})$ is the integral of the component of the spectral radiance **in the direction of the observer** $(\\cos\\theta)$:\n",
    "$$F_\\lambda = \\iint B_\\lambda \\cos\\theta \\,d\\Omega = B_\\lambda \\int_0^{2\\pi} \\int_0^{\\pi/2} \\cos\\theta \\sin\\theta \\,d\\theta \\,d\\phi = \\pi B_\\lambda$$\n",
    "\n",
    "Spectral luminosity $(L_\\lambda \\equiv \\frac{dE}{dt\\,d\\lambda})$ is the integral over the surface area of the stellar photosphere:\n",
    "$$L_\\lambda = \\iint F_\\lambda \\,dA = F_\\lambda \\int_0^{2\\pi} \\int_{0}^{\\pi} R^2 \\sin\\theta \\,d\\theta \\,d\\phi = 4 \\pi R^2 F_\\lambda$$\n",
    "\n",
    "Put that all together:\n",
    "$$L_\\lambda = \\frac{8 \\pi^2 R^2 h c^2}{\\lambda^5} \\frac{1}{\\exp\\left(\\frac{h c}{\\lambda k_B T}\\right) - 1}$$\n",
    "\n",
    "This gives you the spectral luminosity as a function of wavelength $\\lambda$ for a star with temperature $T$ and radius $R$. We're going to implement this equation in Python in three different ways:\n",
    "* using only the built-in math module (this contains the constant $\\pi$ and the exponential function)\n",
    "* using NumPy arrays\n",
    "* using Astropy quantities\n",
    "\n",
    "Then calculate spectra for each of the 7 classes of stars (OBAFGKM). In each case, plot the resulting spectra ($L_\\lambda$ vs. $\\lambda$) to check your work. (Hint: a logarithmic $y$-axis might help.)"
   ]
  },
  {
   "cell_type": "code",
   "execution_count": 1,
   "id": "02150d82-ce52-49f3-9c8e-0e0d50f238b6",
   "metadata": {},
   "outputs": [],
   "source": [
    "import matplotlib.pyplot as plt  # we'll learn more about this next time; for now just use plt.plot(x, y)"
   ]
  },
  {
   "cell_type": "markdown",
   "id": "adbc6232-d9b4-4658-a271-57eeb048cd7e",
   "metadata": {},
   "source": [
    "## Using only the built-in math module"
   ]
  },
  {
   "cell_type": "code",
   "execution_count": 2,
   "id": "ef1bd97e-2c65-47fd-b7ff-de3ad6c49b2f",
   "metadata": {},
   "outputs": [],
   "source": [
    "import math\n",
    "\n",
    "# physical constants\n",
    "R_SUN = 6.96e8  # m\n",
    "C_LIGHT = 3.00e8  # m / s\n",
    "H_PLANCK = 6.63e-34  # J / Hz\n",
    "K_BOLTZMANN = 1.38e-23  # J / K"
   ]
  },
  {
   "cell_type": "code",
   "execution_count": 3,
   "id": "c46b6459-af66-471e-9e40-572ae5a77c42",
   "metadata": {},
   "outputs": [],
   "source": [
    "wavelengths = [i*1e-9 for i in range(400,650)] # complete with list\n",
    "temperatures = [2500, 4000, 5200, 6500, 8000, 20000, 35000] # complete with list\n",
    "radii = [0.5, 0.8, 1.0, 1.25, 1.6, 4.0, 8.0] # complete with list"
   ]
  },
  {
   "cell_type": "code",
   "execution_count": 4,
   "id": "7e3b6d7b-45e4-4e30-bf21-b78c91778a57",
   "metadata": {},
   "outputs": [],
   "source": [
    "# do the calculation\n",
    "def luminosity(wavelength, temperature, radius):\n",
    "    radius_meters = radius*R_SUN\n",
    "    part_1 = (8*H_PLANCK*(radius_meters*C_LIGHT*math.pi)**2) / (wavelength**5)\n",
    "    part_2 = math.e**(H_PLANCK*C_LIGHT / (wavelength*K_BOLTZMANN*temperature))\n",
    "    return part_1 / (part_2 - 1)\n",
    "\n",
    "luminosities = []\n",
    "for i in range(len(temperatures)):\n",
    "    luminosities.append(\n",
    "        [luminosity(wl, temperatures[i], radii[i]) for wl in wavelengths]\n",
    "        )"
   ]
  },
  {
   "cell_type": "code",
   "execution_count": 5,
   "id": "1e550dff-6237-457b-94ac-4835dc037ae1",
   "metadata": {},
   "outputs": [
    {
     "data": {
      "image/png": "[encoded data removed]",
      "text/plain": [
       "<Figure size 640x480 with 1 Axes>"
      ]
     },
     "metadata": {},
     "output_type": "display_data"
    }
   ],
   "source": [
    "# plot the results\n",
    "colors = ['violet', 'indigo', 'b', 'g', 'y', 'orange', 'r']\n",
    "for i in range(len(temperatures)):\n",
    "    plt.plot(wavelengths, luminosities[i], c=colors[i])\n",
    "    plt.yscale('log')\n",
    "plt.show()"
   ]
  },
  {
   "cell_type": "markdown",
   "id": "a144859c-a025-4cf9-9d66-3210b1fcddbf",
   "metadata": {},
   "source": [
    "## Now with NumPy Arrays"
   ]
  },
  {
   "cell_type": "code",
   "execution_count": 6,
   "id": "92d04b69-4aca-4900-8b33-123d4c66b488",
   "metadata": {},
   "outputs": [],
   "source": [
    "import numpy as np"
   ]
  },
  {
   "cell_type": "code",
   "execution_count": 7,
   "id": "58e3ce4f-5225-4df4-821e-262fb6f7b5a9",
   "metadata": {},
   "outputs": [],
   "source": [
    "wavelengths = np.arange(400e-9, 650e-9, 1e-9) # complete with numpy array\n",
    "temperatures = np.array([2500, 4000, 5200, 6500, 8000, 20000, 35000]) # complete with numpy array\n",
    "radii = np.array([0.5, 0.8, 1.0, 1.25, 1.6, 4.0, 8.0]) # complete with numpy array"
   ]
  },
  {
   "cell_type": "code",
   "execution_count": 8,
   "id": "68f2913d-f503-40e5-883f-7cb94abe99ee",
   "metadata": {},
   "outputs": [],
   "source": [
    "# do the calculation\n",
    "def luminosity_np(wavelengths, temperature, radius):\n",
    "    radius_meters = radius*R_SUN\n",
    "    part_1 = (8*H_PLANCK*(radius_meters*C_LIGHT*np.pi)**2) / (wavelengths**5)\n",
    "    part_2 = np.exp(H_PLANCK*C_LIGHT / (wavelengths*K_BOLTZMANN*temperature))\n",
    "    return part_1 / (part_2 - 1)\n",
    "\n",
    "luminosities = []\n",
    "for i in range(len(temperatures)):\n",
    "    luminosities.append(luminosity_np(wavelengths, temperatures[i], radii[i]))"
   ]
  },
  {
   "cell_type": "code",
   "execution_count": null,
   "id": "9df12457-9301-4668-89fe-8462846e230e",
   "metadata": {},
   "outputs": [
    {
     "data": {
      "image/png": "[encoded data removed]",
      "text/plain": [
       "<Figure size 640x480 with 1 Axes>"
      ]
     },
     "metadata": {},
     "output_type": "display_data"
    }
   ],
   "source": [
    "# plot the results\n",
    "colors = ['violet', 'indigo', 'b', 'g', 'y', 'orange', 'r']\n",
    "for i in range(len(temperatures)):\n",
    "    plt.plot(wavelengths, luminosities[i], c=colors[i])\n",
    "    plt.yscale('log') \n",
    "plt.show()"
   ]
  },
  {
   "cell_type": "markdown",
   "id": "c0ca6a41-e26f-4488-ab30-2ab8e5b8a7bb",
   "metadata": {},
   "source": [
    "## Now with Astropy Quantities"
   ]
  },
  {
   "cell_type": "code",
   "execution_count": 10,
   "id": "90986067-a38a-442c-986e-38b1d9fc9efe",
   "metadata": {},
   "outputs": [
    {
     "data": {
      "text/plain": [
       "<astropy.visualization.units.quantity_support.<locals>.MplQuantityConverter at 0x2c659ecbb60>"
      ]
     },
     "execution_count": 10,
     "metadata": {},
     "output_type": "execute_result"
    }
   ],
   "source": [
    "from astropy import units as u\n",
    "from astropy import constants as const\n",
    "from astropy.visualization import quantity_support\n",
    "quantity_support()  "
   ]
  },
  {
   "cell_type": "code",
   "execution_count": 39,
   "id": "4be06b43-4c42-4a82-8175-3b420721f82b",
   "metadata": {},
   "outputs": [],
   "source": [
    "wavelengths =  u.Quantity(np.arange(400e-9, 650e-9, 1e-9), u.m)# complete with astropy quantity\n",
    "temperatures = u.Quantity([2500, 4000, 5200, 6500, 8000, 20000, 35000], u.K) # complete with astropy quantity\n",
    "radii = u.Quantity([2500, 4000, 5200, 6500, 8000, 20000, 35000], u.solRad).to(u.m) # complete with astropy quantity"
   ]
  },
  {
   "cell_type": "code",
   "execution_count": 59,
   "id": "a62f76dc-4161-47dc-b376-00b522c2c428",
   "metadata": {},
   "outputs": [
    {
     "name": "stdout",
     "output_type": "stream",
     "text": [
      "  Name   = Planck constant\n",
      "  Value  = 6.62607015e-34\n",
      "  Uncertainty  = 0.0\n",
      "  Unit  = J s\n",
      "  Reference = CODATA 2018\n",
      "6.63e-34\n"
     ]
    }
   ],
   "source": [
    "# do the calculation\n",
    "def luminosity_np(wavelengths, temperature, radius):\n",
    "    radius_meters = radius*R_SUN\n",
    "    part_1 = (8*H_PLANCK*(radius_meters*C_LIGHT*np.pi)**2) / (wavelengths**5)\n",
    "    part_2 = np.exp(H_PLANCK*C_LIGHT / (wavelengths*K_BOLTZMANN*temperature))\n",
    "    return part_1 / (part_2 - 1)\n",
    "\n",
    "def luminosity_ap(wavelengths, temperature, radius_meters):\n",
    "\n",
    "    part_1 = (8*const.h*((radius_meters*const.c*np.pi)**2)) / (wavelengths**5)\n",
    "    part_2 = np.exp(const.h*const.c / (wavelengths*const.k_B*temperature))\n",
    "    return part_1 / (part_2 - 1)\n",
    "print(const.h)\n",
    "print(H_PLANCK)\n",
    "luminosities = []\n",
    "for i in range(len(temperatures)):\n",
    "    luminosities.append(luminosity_ap(wavelengths, temperatures[i], radii[i]))"
   ]
  },
  {
   "cell_type": "code",
   "execution_count": 56,
   "id": "cd40a44f-f089-4c91-9cce-29d24cfc3aa2",
   "metadata": {},
   "outputs": [
    {
     "data": {
      "image/png": "[encoded data removed]",
      "text/plain": [
       "<Figure size 640x480 with 1 Axes>"
      ]
     },
     "metadata": {},
     "output_type": "display_data"
    }
   ],
   "source": [
    "# plot the results\n",
    "colors = ['violet', 'indigo', 'b', 'g', 'y', 'orange', 'r']\n",
    "for i in range(len(temperatures)):\n",
    "    plt.plot(wavelengths.to(u.nm), luminosities[i], c=colors[i])\n",
    "    plt.yscale('log')\n",
    "plt.show()"
   ]
  },
  {
   "cell_type": "markdown",
   "id": "e84ca09d",
   "metadata": {},
   "source": [
    "I'm a bit confused. Shouldn't luminosity be in units of $\\frac{\\text{J}}{\\text{s}}$? I checked and I'm pretty sure that my function is correct."
   ]
  },
  {
   "cell_type": "markdown",
   "id": "f9b54db7-dc14-43c4-a68a-82faeef02413",
   "metadata": {},
   "source": [
    "## Compare the performance of these three methods\n",
    "Add the `%%timeit` magic command at the top of each calculation cell to see how long it takes to run. Which is fastest? Which is most convenient?\n",
    "\n",
    "Now increase the number of wavelength samples you are using by a factor of 10. How does this change your timing results?\n",
    "\n",
    "In reality, which one would you use if you had to do this calculation for 7 stars? Which one would you use if you had to do this calculation for a billion stars (the size of the Gaia catalog)?"
   ]
  },
  {
   "cell_type": "markdown",
   "id": "a60f3960-0585-4f4c-9c70-1bffacc84a7e",
   "metadata": {},
   "source": [
    "(`%%timeit` seems to break variable assignment for me, so I am doing all tests here instead)"
   ]
  },
  {
   "cell_type": "markdown",
   "id": "6302c7bf",
   "metadata": {},
   "source": [
    "Only math"
   ]
  },
  {
   "cell_type": "code",
   "execution_count": 14,
   "id": "2aabb14f",
   "metadata": {},
   "outputs": [],
   "source": [
    "wavelengths = [i*1e-10 for i in range(400,650)] # complete with list\n",
    "temperatures = [2500, 4000, 5200, 6500, 8000, 20000, 35000] # complete with list\n",
    "radii = [0.5, 0.8, 1.0, 1.25, 1.6, 4.0, 8.0] # complete with list"
   ]
  },
  {
   "cell_type": "code",
   "execution_count": 15,
   "id": "9c885fcf",
   "metadata": {},
   "outputs": [
    {
     "name": "stdout",
     "output_type": "stream",
     "text": [
      "646 μs ± 7.93 μs per loop (mean ± std. dev. of 7 runs, 1,000 loops each)\n"
     ]
    }
   ],
   "source": [
    "%%timeit\n",
    "# do the calculation\n",
    "def luminosity(wavelength, temperature, radius):\n",
    "    radius_meters = radius*R_SUN\n",
    "    part_1 = (8*H_PLANCK*(radius_meters*C_LIGHT*math.pi)**2) / (wavelength**5)\n",
    "    part_2 = math.e**(H_PLANCK*C_LIGHT / (wavelength*K_BOLTZMANN*temperature))\n",
    "    return part_1 / (part_2 - 1)\n",
    "\n",
    "luminosities = []\n",
    "for i in range(len(temperatures)):\n",
    "    luminosities.append(\n",
    "        [luminosity(wl, temperatures[i], radii[i]) for wl in wavelengths]\n",
    "        )"
   ]
  },
  {
   "cell_type": "markdown",
   "id": "5746b53f",
   "metadata": {},
   "source": [
    "With numpy"
   ]
  },
  {
   "cell_type": "code",
   "execution_count": 16,
   "id": "953d5fdb",
   "metadata": {},
   "outputs": [],
   "source": [
    "wavelengths = np.arange(400e-9, 650e-9, 1e-10) # complete with numpy array\n",
    "temperatures = np.array([2500, 4000, 5200, 6500, 8000, 20000, 35000]) # complete with numpy array\n",
    "radii = np.array([0.5, 0.8, 1.0, 1.25, 1.6, 4.0, 8.0]) # complete with numpy array"
   ]
  },
  {
   "cell_type": "code",
   "execution_count": 17,
   "id": "9933abc9",
   "metadata": {},
   "outputs": [
    {
     "name": "stdout",
     "output_type": "stream",
     "text": [
      "372 μs ± 1.62 μs per loop (mean ± std. dev. of 7 runs, 1,000 loops each)\n"
     ]
    }
   ],
   "source": [
    "%%timeit\n",
    "# do the calculation\n",
    "def luminosity_np(wavelengths, temperature, radius):\n",
    "    radius_meters = radius*R_SUN\n",
    "    part_1 = (8*H_PLANCK*(radius_meters*C_LIGHT*np.pi)**2) / (wavelengths**5)\n",
    "    part_2 = np.exp(H_PLANCK*C_LIGHT / (wavelengths*K_BOLTZMANN*temperature))\n",
    "    return part_1 / (part_2 - 1)\n",
    "\n",
    "luminosities = []\n",
    "for i in range(len(temperatures)):\n",
    "    luminosities.append(luminosity_np(wavelengths, temperatures[i], radii[i]))"
   ]
  },
  {
   "cell_type": "markdown",
   "id": "7b4e057e",
   "metadata": {},
   "source": [
    "With astropy"
   ]
  },
  {
   "cell_type": "code",
   "execution_count": 18,
   "id": "79c0225a",
   "metadata": {},
   "outputs": [],
   "source": [
    "wavelengths =  u.Quantity(np.arange(400e-9, 650e-9, 1e-10), u.nm).to(u.m) # complete with astropy quantity\n",
    "temperatures = u.Quantity([2500, 4000, 5200, 6500, 8000, 20000, 35000], u.K) # complete with astropy quantity\n",
    "radii = u.Quantity([2500, 4000, 5200, 6500, 8000, 20000, 35000], u.solRad).to(u.m) # complete with astropy quantity"
   ]
  },
  {
   "cell_type": "code",
   "execution_count": 19,
   "id": "d35e9eed",
   "metadata": {},
   "outputs": [
    {
     "name": "stdout",
     "output_type": "stream",
     "text": [
      "2.77 ms ± 22.8 μs per loop (mean ± std. dev. of 7 runs, 100 loops each)\n"
     ]
    }
   ],
   "source": [
    "%%timeit\n",
    "# do the calculation\n",
    "def luminosity_ap(wavelengths, temperature, radius):\n",
    "    part_1 = (8*(np.pi**2)*(radius**2)*(const.c**2)*const.h) / (wavelengths**5)\n",
    "    part_2 = np.exp(const.h*const.c / (wavelengths*const.k_B*temperature))\n",
    "    return part_1 / (part_2 - 1)\n",
    "\n",
    "luminosities = []\n",
    "for i in range(len(temperatures)):\n",
    "    luminosities.append(luminosity_ap(wavelengths, temperatures[i], radii[i]))"
   ]
  },
  {
   "cell_type": "markdown",
   "id": "acd2796b",
   "metadata": {},
   "source": [
    "As timed, for a large dataset, I would most likely use numpy since it is the fastest (although an overflow error, which I have not been able to solve and does not seem to be reproducible, may be the reason astropy is slower). For a smaller dataset, the setup and googling required for astropy makes it too unwieldy, so I would probably also use numpy for that. The overall time taken for any of these increases linearly with the number of datapoints, so the importance of using faster code increases as the dataset gets larger."
   ]
  },
  {
   "cell_type": "markdown",
   "id": "63b18ed7-f3be-477a-8021-b273a0eb563f",
   "metadata": {},
   "source": [
    "## Save your results using an Astropy Table"
   ]
  },
  {
   "cell_type": "code",
   "execution_count": 20,
   "id": "a647526f-b01c-4e0b-baaa-c175ed87c3aa",
   "metadata": {},
   "outputs": [],
   "source": [
    "from astropy.table import Table"
   ]
  },
  {
   "cell_type": "code",
   "execution_count": 21,
   "id": "fd90f939-0743-4c2a-b7de-238974e207ae",
   "metadata": {},
   "outputs": [
    {
     "data": {
      "text/html": [
       "<div><i>Table length=251</i>\n",
       "<table id=\"table3050937692752\" class=\"table-striped table-bordered table-condensed\">\n",
       "<thead><tr><th>m</th><th>k</th><th>g</th><th>f</th><th>a</th><th>b</th><th>o</th></tr></thead>\n",
       "<thead><tr><th>J / (m s)</th><th>J / (m s)</th><th>J / (m s)</th><th>J / (m s)</th><th>J / (m s)</th><th>J / (m s)</th><th>J / (m s)</th></tr></thead>\n",
       "<thead><tr><th>float64</th><th>float64</th><th>float64</th><th>float64</th><th>float64</th><th>float64</th><th>float64</th></tr></thead>\n",
       "<tr><td>0.0</td><td>0.0</td><td>0.0</td><td>0.0</td><td>0.0</td><td>0.0</td><td>0.0</td></tr>\n",
       "<tr><td>0.0</td><td>0.0</td><td>0.0</td><td>0.0</td><td>0.0</td><td>0.0</td><td>0.0</td></tr>\n",
       "<tr><td>0.0</td><td>0.0</td><td>0.0</td><td>0.0</td><td>0.0</td><td>0.0</td><td>0.0</td></tr>\n",
       "<tr><td>0.0</td><td>0.0</td><td>0.0</td><td>0.0</td><td>0.0</td><td>0.0</td><td>0.0</td></tr>\n",
       "<tr><td>0.0</td><td>0.0</td><td>0.0</td><td>0.0</td><td>0.0</td><td>0.0</td><td>0.0</td></tr>\n",
       "<tr><td>0.0</td><td>0.0</td><td>0.0</td><td>0.0</td><td>0.0</td><td>0.0</td><td>0.0</td></tr>\n",
       "<tr><td>0.0</td><td>0.0</td><td>0.0</td><td>0.0</td><td>0.0</td><td>0.0</td><td>0.0</td></tr>\n",
       "<tr><td>0.0</td><td>0.0</td><td>0.0</td><td>0.0</td><td>0.0</td><td>0.0</td><td>0.0</td></tr>\n",
       "<tr><td>0.0</td><td>0.0</td><td>0.0</td><td>0.0</td><td>0.0</td><td>0.0</td><td>0.0</td></tr>\n",
       "<tr><td>...</td><td>...</td><td>...</td><td>...</td><td>...</td><td>...</td><td>...</td></tr>\n",
       "<tr><td>0.0</td><td>0.0</td><td>0.0</td><td>0.0</td><td>0.0</td><td>0.0</td><td>0.0</td></tr>\n",
       "<tr><td>0.0</td><td>0.0</td><td>0.0</td><td>0.0</td><td>0.0</td><td>0.0</td><td>0.0</td></tr>\n",
       "<tr><td>0.0</td><td>0.0</td><td>0.0</td><td>0.0</td><td>0.0</td><td>0.0</td><td>0.0</td></tr>\n",
       "<tr><td>0.0</td><td>0.0</td><td>0.0</td><td>0.0</td><td>0.0</td><td>0.0</td><td>0.0</td></tr>\n",
       "<tr><td>0.0</td><td>0.0</td><td>0.0</td><td>0.0</td><td>0.0</td><td>0.0</td><td>0.0</td></tr>\n",
       "<tr><td>0.0</td><td>0.0</td><td>0.0</td><td>0.0</td><td>0.0</td><td>0.0</td><td>0.0</td></tr>\n",
       "<tr><td>0.0</td><td>0.0</td><td>0.0</td><td>0.0</td><td>0.0</td><td>0.0</td><td>0.0</td></tr>\n",
       "<tr><td>0.0</td><td>0.0</td><td>0.0</td><td>0.0</td><td>0.0</td><td>0.0</td><td>0.0</td></tr>\n",
       "<tr><td>0.0</td><td>0.0</td><td>0.0</td><td>0.0</td><td>0.0</td><td>0.0</td><td>0.0</td></tr>\n",
       "</table></div>"
      ],
      "text/plain": [
       "<Table length=251>\n",
       "    m         k         g         f         a         b         o    \n",
       "J / (m s) J / (m s) J / (m s) J / (m s) J / (m s) J / (m s) J / (m s)\n",
       " float64   float64   float64   float64   float64   float64   float64 \n",
       "--------- --------- --------- --------- --------- --------- ---------\n",
       "      0.0       0.0       0.0       0.0       0.0       0.0       0.0\n",
       "      0.0       0.0       0.0       0.0       0.0       0.0       0.0\n",
       "      0.0       0.0       0.0       0.0       0.0       0.0       0.0\n",
       "      0.0       0.0       0.0       0.0       0.0       0.0       0.0\n",
       "      0.0       0.0       0.0       0.0       0.0       0.0       0.0\n",
       "      0.0       0.0       0.0       0.0       0.0       0.0       0.0\n",
       "      0.0       0.0       0.0       0.0       0.0       0.0       0.0\n",
       "      0.0       0.0       0.0       0.0       0.0       0.0       0.0\n",
       "      0.0       0.0       0.0       0.0       0.0       0.0       0.0\n",
       "      ...       ...       ...       ...       ...       ...       ...\n",
       "      0.0       0.0       0.0       0.0       0.0       0.0       0.0\n",
       "      0.0       0.0       0.0       0.0       0.0       0.0       0.0\n",
       "      0.0       0.0       0.0       0.0       0.0       0.0       0.0\n",
       "      0.0       0.0       0.0       0.0       0.0       0.0       0.0\n",
       "      0.0       0.0       0.0       0.0       0.0       0.0       0.0\n",
       "      0.0       0.0       0.0       0.0       0.0       0.0       0.0\n",
       "      0.0       0.0       0.0       0.0       0.0       0.0       0.0\n",
       "      0.0       0.0       0.0       0.0       0.0       0.0       0.0\n",
       "      0.0       0.0       0.0       0.0       0.0       0.0       0.0"
      ]
     },
     "execution_count": 21,
     "metadata": {},
     "output_type": "execute_result"
    }
   ],
   "source": [
    "table = Table(luminosities, names = ['m', 'k', 'g', 'f', 'a', 'b', 'o']) # create an astropy table containing your results\n",
    "table  # look at the results"
   ]
  },
  {
   "cell_type": "code",
   "execution_count": 22,
   "id": "4ff43aef-9ddf-49ee-9e0d-b9844f8a4f50",
   "metadata": {},
   "outputs": [],
   "source": [
    "# save your table to a file on your hard drive\n",
    "table.write('luminosity_table.ecsv')"
   ]
  },
  {
   "cell_type": "code",
   "execution_count": 23,
   "id": "8e38c909-70c9-42a8-9fd9-2377e237306f",
   "metadata": {},
   "outputs": [
    {
     "data": {
      "text/html": [
       "<div><i>Table length=251</i>\n",
       "<table id=\"table3050964487440\" class=\"table-striped table-bordered table-condensed\">\n",
       "<thead><tr><th>m</th><th>k</th><th>g</th><th>f</th><th>a</th><th>b</th><th>o</th></tr></thead>\n",
       "<thead><tr><th>J / (m s)</th><th>J / (m s)</th><th>J / (m s)</th><th>J / (m s)</th><th>J / (m s)</th><th>J / (m s)</th><th>J / (m s)</th></tr></thead>\n",
       "<thead><tr><th>float64</th><th>float64</th><th>float64</th><th>float64</th><th>float64</th><th>float64</th><th>float64</th></tr></thead>\n",
       "<tr><td>0.0</td><td>0.0</td><td>0.0</td><td>0.0</td><td>0.0</td><td>0.0</td><td>0.0</td></tr>\n",
       "<tr><td>0.0</td><td>0.0</td><td>0.0</td><td>0.0</td><td>0.0</td><td>0.0</td><td>0.0</td></tr>\n",
       "<tr><td>0.0</td><td>0.0</td><td>0.0</td><td>0.0</td><td>0.0</td><td>0.0</td><td>0.0</td></tr>\n",
       "<tr><td>0.0</td><td>0.0</td><td>0.0</td><td>0.0</td><td>0.0</td><td>0.0</td><td>0.0</td></tr>\n",
       "<tr><td>0.0</td><td>0.0</td><td>0.0</td><td>0.0</td><td>0.0</td><td>0.0</td><td>0.0</td></tr>\n",
       "<tr><td>0.0</td><td>0.0</td><td>0.0</td><td>0.0</td><td>0.0</td><td>0.0</td><td>0.0</td></tr>\n",
       "<tr><td>0.0</td><td>0.0</td><td>0.0</td><td>0.0</td><td>0.0</td><td>0.0</td><td>0.0</td></tr>\n",
       "<tr><td>0.0</td><td>0.0</td><td>0.0</td><td>0.0</td><td>0.0</td><td>0.0</td><td>0.0</td></tr>\n",
       "<tr><td>0.0</td><td>0.0</td><td>0.0</td><td>0.0</td><td>0.0</td><td>0.0</td><td>0.0</td></tr>\n",
       "<tr><td>...</td><td>...</td><td>...</td><td>...</td><td>...</td><td>...</td><td>...</td></tr>\n",
       "<tr><td>0.0</td><td>0.0</td><td>0.0</td><td>0.0</td><td>0.0</td><td>0.0</td><td>0.0</td></tr>\n",
       "<tr><td>0.0</td><td>0.0</td><td>0.0</td><td>0.0</td><td>0.0</td><td>0.0</td><td>0.0</td></tr>\n",
       "<tr><td>0.0</td><td>0.0</td><td>0.0</td><td>0.0</td><td>0.0</td><td>0.0</td><td>0.0</td></tr>\n",
       "<tr><td>0.0</td><td>0.0</td><td>0.0</td><td>0.0</td><td>0.0</td><td>0.0</td><td>0.0</td></tr>\n",
       "<tr><td>0.0</td><td>0.0</td><td>0.0</td><td>0.0</td><td>0.0</td><td>0.0</td><td>0.0</td></tr>\n",
       "<tr><td>0.0</td><td>0.0</td><td>0.0</td><td>0.0</td><td>0.0</td><td>0.0</td><td>0.0</td></tr>\n",
       "<tr><td>0.0</td><td>0.0</td><td>0.0</td><td>0.0</td><td>0.0</td><td>0.0</td><td>0.0</td></tr>\n",
       "<tr><td>0.0</td><td>0.0</td><td>0.0</td><td>0.0</td><td>0.0</td><td>0.0</td><td>0.0</td></tr>\n",
       "<tr><td>0.0</td><td>0.0</td><td>0.0</td><td>0.0</td><td>0.0</td><td>0.0</td><td>0.0</td></tr>\n",
       "</table></div>"
      ],
      "text/plain": [
       "<Table length=251>\n",
       "    m         k         g         f         a         b         o    \n",
       "J / (m s) J / (m s) J / (m s) J / (m s) J / (m s) J / (m s) J / (m s)\n",
       " float64   float64   float64   float64   float64   float64   float64 \n",
       "--------- --------- --------- --------- --------- --------- ---------\n",
       "      0.0       0.0       0.0       0.0       0.0       0.0       0.0\n",
       "      0.0       0.0       0.0       0.0       0.0       0.0       0.0\n",
       "      0.0       0.0       0.0       0.0       0.0       0.0       0.0\n",
       "      0.0       0.0       0.0       0.0       0.0       0.0       0.0\n",
       "      0.0       0.0       0.0       0.0       0.0       0.0       0.0\n",
       "      0.0       0.0       0.0       0.0       0.0       0.0       0.0\n",
       "      0.0       0.0       0.0       0.0       0.0       0.0       0.0\n",
       "      0.0       0.0       0.0       0.0       0.0       0.0       0.0\n",
       "      0.0       0.0       0.0       0.0       0.0       0.0       0.0\n",
       "      ...       ...       ...       ...       ...       ...       ...\n",
       "      0.0       0.0       0.0       0.0       0.0       0.0       0.0\n",
       "      0.0       0.0       0.0       0.0       0.0       0.0       0.0\n",
       "      0.0       0.0       0.0       0.0       0.0       0.0       0.0\n",
       "      0.0       0.0       0.0       0.0       0.0       0.0       0.0\n",
       "      0.0       0.0       0.0       0.0       0.0       0.0       0.0\n",
       "      0.0       0.0       0.0       0.0       0.0       0.0       0.0\n",
       "      0.0       0.0       0.0       0.0       0.0       0.0       0.0\n",
       "      0.0       0.0       0.0       0.0       0.0       0.0       0.0\n",
       "      0.0       0.0       0.0       0.0       0.0       0.0       0.0"
      ]
     },
     "execution_count": 23,
     "metadata": {},
     "output_type": "execute_result"
    }
   ],
   "source": [
    "table2 =  Table.read('luminosity_table.ecsv')# read in the file you just saved\n",
    "table2  # look at the results"
   ]
  },
  {
   "cell_type": "code",
   "execution_count": 24,
   "id": "3b17b47f-6576-4aac-aefd-3e584eb0666a",
   "metadata": {},
   "outputs": [
    {
     "data": {
      "text/plain": [
       "np.True_"
      ]
     },
     "execution_count": 24,
     "metadata": {},
     "output_type": "execute_result"
    }
   ],
   "source": [
    "np.all(table == table2)"
   ]
  }
 ],
 "metadata": {
  "kernelspec": {
   "display_name": "data_venv",
   "language": "python",
   "name": "python3"
  },
  "language_info": {
   "codemirror_mode": {
    "name": "ipython",
    "version": 3
   },
   "file_extension": ".py",
   "mimetype": "text/x-python",
   "name": "python",
   "nbconvert_exporter": "python",
   "pygments_lexer": "ipython3",
   "version": "3.13.2"
  }
 },
 "nbformat": 4,
 "nbformat_minor": 5
}
