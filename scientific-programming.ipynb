{
 "cells": [
  {
   "cell_type": "markdown",
   "id": "3dc34a97-4085-4fa6-86f6-bcc0c7976e12",
   "metadata": {},
   "source": [
    "# Intro to Scientific Programming\n",
    "By G Hosseinzadeh 2025 Apr 15"
   ]
  },
  {
   "cell_type": "markdown",
   "id": "123f13f8-e837-47f8-876b-fc7f5c0b2479",
   "metadata": {},
   "source": [
    "Let's imagine you want to generate synthetic spectra of different types of stars. The figure below shows approximate temperature and radius ranges for each type. In reality they have some absorption lines (shown at left), but for now let's approximate them as perfect blackbody emitters."
   ]
  },
  {
   "cell_type": "markdown",
   "id": "8e62c134-dae0-4295-80aa-8ffd7a40f433",
   "metadata": {},
   "source": [
    "The Planck function gives the spectral radiance $(B_\\lambda \\equiv \\frac{dE}{dt\\,d\\lambda\\,dA\\,d\\Omega})$ of the stellar photosphere for a given temperature:\n",
    "$$B_\\lambda = \\frac{2 h c^2}{\\lambda^5} \\frac{1}{\\exp\\left(\\frac{h c}{\\lambda k_B T}\\right) - 1}$$\n",
    "\n",
    "Spectral flux $(F_\\lambda \\equiv \\frac{dE}{dt\\,d\\lambda\\,dA})$ is the integral of the component of the spectral radiance **in the direction of the observer** $(\\cos\\theta)$:\n",
    "$$F_\\lambda = \\iint B_\\lambda \\cos\\theta \\,d\\Omega = B_\\lambda \\int_0^{2\\pi} \\int_0^{\\pi/2} \\cos\\theta \\sin\\theta \\,d\\theta \\,d\\phi = \\pi B_\\lambda$$\n",
    "\n",
    "Spectral luminosity $(L_\\lambda \\equiv \\frac{dE}{dt\\,d\\lambda})$ is the integral over the surface area of the stellar photosphere:\n",
    "$$L_\\lambda = \\iint F_\\lambda \\,dA = F_\\lambda \\int_0^{2\\pi} \\int_{0}^{\\pi} R^2 \\sin\\theta \\,d\\theta \\,d\\phi = 4 \\pi R^2 F_\\lambda$$\n",
    "\n",
    "Put that all together:\n",
    "$$L_\\lambda = \\frac{8 \\pi^2 R^2 h c^2}{\\lambda^5} \\frac{1}{\\exp\\left(\\frac{h c}{\\lambda k_B T}\\right) - 1}$$\n",
    "\n",
    "This gives you the spectral luminosity as a function of wavelength $\\lambda$ for a star with temperature $T$ and radius $R$. We're going to implement this equation in Python in three different ways:\n",
    "* using only the built-in math module (this contains the constant $\\pi$ and the exponential function)\n",
    "* using NumPy arrays\n",
    "* using Astropy quantities\n",
    "\n",
    "Then calculate spectra for each of the 7 classes of stars (OBAFGKM). In each case, plot the resulting spectra ($L_\\lambda$ vs. $\\lambda$) to check your work. (Hint: a logarithmic $y$-axis might help.)"
   ]
  },
  {
   "cell_type": "markdown",
   "id": "58dc0958-a8fb-4dab-84ff-a97623afc499",
   "metadata": {},
   "source": [
    "![main sequence stars](https://upload.wikimedia.org/wikipedia/commons/3/37/Stellar_Classification_Chart.png)  \n",
    "Credit: Pablo Carlos Budassi (Wikimedia.org)"
   ]
  },
  {
   "cell_type": "code",
   "execution_count": 5,
   "id": "02150d82-ce52-49f3-9c8e-0e0d50f238b6",
   "metadata": {},
   "outputs": [],
   "source": [
    "import matplotlib.pyplot as plt  # we'll learn more about this next time; for now just use plt.plot(x, y)"
   ]
  },
  {
   "cell_type": "markdown",
   "id": "adbc6232-d9b4-4658-a271-57eeb048cd7e",
   "metadata": {},
   "source": [
    "## Using only the built-in math module"
   ]
  },
  {
   "cell_type": "code",
   "execution_count": 52,
   "id": "ef1bd97e-2c65-47fd-b7ff-de3ad6c49b2f",
   "metadata": {},
   "outputs": [],
   "source": [
    "import math\n",
    "import numpy as np\n",
    "\n",
    "# physical constants\n",
    "R_SUN = 6.96e8  # m\n",
    "C_LIGHT = 3.00e8  # m / s\n",
    "H_PLANCK = 6.63e-34  # J / Hz\n",
    "K_BOLTZMANN = 1.38e-23  # J / K"
   ]
  },
  {
   "cell_type": "code",
   "execution_count": 112,
   "id": "c46b6459-af66-471e-9e40-572ae5a77c42",
   "metadata": {},
   "outputs": [],
   "source": [
    "#def power_list(list, power):\n",
    "  #return [x**power for x in list]\n",
    "\n",
    "wavelengths = [400, 440, 480, 520, 560, 600, 640]\n",
    "#power_wavelengths = power_list(wavelengths, 5)\n",
    "#power_wavelengths.append(power_wavelengths)\n",
    "\n",
    "temperatures = [3500, 4200, 5200, 6800, 8500, 18000, 35000]\n",
    "radii = [0.8, 0.8, 1.0, 1.2, 1.6, 4.4, 6.7]"
   ]
  },
  {
   "cell_type": "code",
   "execution_count": 134,
   "id": "7e3b6d7b-45e4-4e30-bf21-b78c91778a57",
   "metadata": {},
   "outputs": [
    {
     "name": "stdout",
     "output_type": "stream",
     "text": [
      "2.0494391452532472e-19\n",
      "1.2725404655998704e-19\n",
      "8.236236276898659e-20\n",
      "5.519735479131702e-20\n",
      "3.8106130355901694e-20\n",
      "2.6988499032141527e-20\n",
      "1.9544974758656e-20\n",
      "2.0494391452532472e-19\n",
      "1.2725404655998704e-19\n",
      "8.236236276898659e-20\n",
      "5.519735479131702e-20\n",
      "3.8106130355901694e-20\n",
      "2.6988499032141527e-20\n",
      "1.9544974758656e-20\n",
      "3.202248664458198e-19\n",
      "1.9883444774997972e-19\n",
      "1.2869119182654154e-19\n",
      "8.624586686143284e-20\n",
      "5.954082868109639e-20\n",
      "4.216952973772113e-20\n",
      "3.053902306039999e-20\n",
      "4.611238076819805e-19\n",
      "2.863216047599708e-19\n",
      "1.8531531623021981e-19\n",
      "1.241940482804633e-19\n",
      "8.57387933007788e-20\n",
      "6.072412282231843e-20\n",
      "4.397619320697599e-20\n",
      "8.197756581012989e-19\n",
      "5.090161862399481e-19\n",
      "3.2944945107594637e-19\n",
      "2.207894191652681e-19\n",
      "1.5242452142360678e-19\n",
      "1.0795399612856611e-19\n",
      "7.8179899034624e-20\n",
      "6.199553414391074e-18\n",
      "3.849434908439608e-18\n",
      "2.4914614737618447e-18\n",
      "1.6697199824373402e-18\n",
      "1.1527104432660263e-18\n",
      "8.164020957222813e-19\n",
      "5.91235486449344e-19\n",
      "1.4374894254752854e-17\n",
      "8.92567835949659e-18\n",
      "5.77694760109345e-18\n",
      "3.871576963409721e-18\n",
      "2.672787799494417e-18\n",
      "1.8929901899263015e-18\n",
      "1.3708967451813558e-18\n"
     ]
    },
    {
     "name": "stderr",
     "output_type": "stream",
     "text": [
      "/var/folders/hy/02gw4v8n2lj8hvkbq7rc3tt40000gn/T/ipykernel_4697/1117096134.py:8: RuntimeWarning: divide by zero encountered in scalar divide\n",
      "  eq3 = 1 / (eq2 - 1)\n"
     ]
    }
   ],
   "source": [
    "L = []\n",
    "for i in range(0, 7):\n",
    "    size = radii[i]\n",
    "    temps = temperatures[i]\n",
    "    for j in wavelengths:\n",
    "        eq1 = (8*math.pi**2*R_SUN*size**2*H_PLANCK*C_LIGHT**2)/j**5\n",
    "        eq2 = np.exp(H_PLANCK * C_LIGHT / j * K_BOLTZMANN * temps)\n",
    "        eq3 = 1 / (eq2 - 1)\n",
    "        L = eq1 * eq2\n",
    "        print(L)"
   ]
  },
  {
   "cell_type": "code",
   "execution_count": 116,
   "id": "c599f399-4a2d-4a9a-ae76-0cf07c9ecc41",
   "metadata": {},
   "outputs": [
    {
     "name": "stdout",
     "output_type": "stream",
     "text": [
      "[10240000000000, 16491622400000, 25480396800000, 38020403200000, 55073177600000, 77760000000000, 107374182400000, [...]]\n"
     ]
    }
   ],
   "source": [
    "print(power_wavelengths)"
   ]
  },
  {
   "cell_type": "code",
   "execution_count": null,
   "id": "1e550dff-6237-457b-94ac-4835dc037ae1",
   "metadata": {},
   "outputs": [],
   "source": [
    "# plot the results"
   ]
  },
  {
   "cell_type": "markdown",
   "id": "a144859c-a025-4cf9-9d66-3210b1fcddbf",
   "metadata": {},
   "source": [
    "## Now with NumPy Arrays"
   ]
  },
  {
   "cell_type": "code",
   "execution_count": null,
   "id": "92d04b69-4aca-4900-8b33-123d4c66b488",
   "metadata": {},
   "outputs": [],
   "source": [
    "import numpy as np"
   ]
  },
  {
   "cell_type": "code",
   "execution_count": null,
   "id": "58e3ce4f-5225-4df4-821e-262fb6f7b5a9",
   "metadata": {},
   "outputs": [],
   "source": [
    "wavelengths =  # complete with numpy array\n",
    "temperatures =  # complete with numpy array\n",
    "radii =  # complete with numpy array"
   ]
  },
  {
   "cell_type": "code",
   "execution_count": null,
   "id": "68f2913d-f503-40e5-883f-7cb94abe99ee",
   "metadata": {},
   "outputs": [],
   "source": [
    "# do the calculation"
   ]
  },
  {
   "cell_type": "code",
   "execution_count": null,
   "id": "9df12457-9301-4668-89fe-8462846e230e",
   "metadata": {},
   "outputs": [],
   "source": [
    "# plot the results"
   ]
  },
  {
   "cell_type": "markdown",
   "id": "c0ca6a41-e26f-4488-ab30-2ab8e5b8a7bb",
   "metadata": {},
   "source": [
    "## Now with Astropy Quantities"
   ]
  },
  {
   "cell_type": "code",
   "execution_count": null,
   "id": "90986067-a38a-442c-986e-38b1d9fc9efe",
   "metadata": {},
   "outputs": [],
   "source": [
    "from astropy import units as u\n",
    "from astropy import constants as const\n",
    "from astropy.visualization import quantity_support\n",
    "quantity_support()  "
   ]
  },
  {
   "cell_type": "code",
   "execution_count": null,
   "id": "4be06b43-4c42-4a82-8175-3b420721f82b",
   "metadata": {},
   "outputs": [],
   "source": [
    "wavelengths =  # complete with astropy quantity\n",
    "temperatures =  # complete with astropy quantity\n",
    "radii =  # complete with astropy quantity"
   ]
  },
  {
   "cell_type": "code",
   "execution_count": null,
   "id": "a62f76dc-4161-47dc-b376-00b522c2c428",
   "metadata": {},
   "outputs": [],
   "source": [
    "# do the calculation"
   ]
  },
  {
   "cell_type": "code",
   "execution_count": null,
   "id": "cd40a44f-f089-4c91-9cce-29d24cfc3aa2",
   "metadata": {},
   "outputs": [],
   "source": [
    "# plot the results"
   ]
  },
  {
   "cell_type": "markdown",
   "id": "f9b54db7-dc14-43c4-a68a-82faeef02413",
   "metadata": {},
   "source": [
    "## Compare the performance of these three methods\n",
    "Add the `%%timeit` magic command at the top of each calculation cell to see how long it takes to run. Which is fastest? Which is most convenient?\n",
    "\n",
    "Now increase the number of wavelength samples you are using by a factor of 10. How does this change your timing results?\n",
    "\n",
    "In reality, which one would you use if you had to do this calculation for 7 stars? Which one would you use if you had to do this calculation for a billion stars (the size of the Gaia catalog)?"
   ]
  },
  {
   "cell_type": "markdown",
   "id": "a60f3960-0585-4f4c-9c70-1bffacc84a7e",
   "metadata": {},
   "source": [
    "(Write your answers here.)"
   ]
  },
  {
   "cell_type": "markdown",
   "id": "63b18ed7-f3be-477a-8021-b273a0eb563f",
   "metadata": {},
   "source": [
    "## Save your results using an Astropy Table"
   ]
  },
  {
   "cell_type": "code",
   "execution_count": null,
   "id": "a647526f-b01c-4e0b-baaa-c175ed87c3aa",
   "metadata": {},
   "outputs": [],
   "source": [
    "from astropy.table import Table"
   ]
  },
  {
   "cell_type": "code",
   "execution_count": null,
   "id": "fd90f939-0743-4c2a-b7de-238974e207ae",
   "metadata": {},
   "outputs": [],
   "source": [
    "table =  # create an astropy table containing your results\n",
    "table  # look at the results"
   ]
  },
  {
   "cell_type": "code",
   "execution_count": null,
   "id": "4ff43aef-9ddf-49ee-9e0d-b9844f8a4f50",
   "metadata": {},
   "outputs": [],
   "source": [
    "# save your table to a file on your hard drive"
   ]
  },
  {
   "cell_type": "code",
   "execution_count": null,
   "id": "8e38c909-70c9-42a8-9fd9-2377e237306f",
   "metadata": {},
   "outputs": [],
   "source": [
    "table2 =  # read in the file you just saved\n",
    "table2  # look at the results"
   ]
  },
  {
   "cell_type": "code",
   "execution_count": null,
   "id": "3b17b47f-6576-4aac-aefd-3e584eb0666a",
   "metadata": {},
   "outputs": [],
   "source": []
  }
 ],
 "metadata": {
  "kernelspec": {
   "display_name": "Python 3 (ipykernel)",
   "language": "python",
   "name": "python3"
  },
  "language_info": {
   "codemirror_mode": {
    "name": "ipython",
    "version": 3
   },
   "file_extension": ".py",
   "mimetype": "text/x-python",
   "name": "python",
   "nbconvert_exporter": "python",
   "pygments_lexer": "ipython3",
   "version": "3.11.5"
  }
 },
 "nbformat": 4,
 "nbformat_minor": 5
}
