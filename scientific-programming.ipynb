{
 "cells": [
  {
   "cell_type": "markdown",
   "id": "3dc34a97-4085-4fa6-86f6-bcc0c7976e12",
   "metadata": {},
   "source": [
    "# Intro to Scientific Programming\n",
    "By G Hosseinzadeh 2025 Apr 15"
   ]
  },
  {
   "cell_type": "markdown",
   "id": "123f13f8-e837-47f8-876b-fc7f5c0b2479",
   "metadata": {},
   "source": [
    "Let's imagine you want to generate synthetic spectra of different types of stars. The figure below shows approximate temperature and radius ranges for each type. In reality they have some absorption lines (shown at left), but for now let's approximate them as perfect blackbody emitters."
   ]
  },
  {
   "cell_type": "markdown",
   "id": "58dc0958-a8fb-4dab-84ff-a97623afc499",
   "metadata": {},
   "source": [
    "![main sequence stars](https://upload.wikimedia.org/wikipedia/commons/3/37/Stellar_Classification_Chart.png)  \n",
    "Credit: Pablo Carlos Budassi (Wikimedia.org)"
   ]
  },
  {
   "cell_type": "markdown",
   "id": "8e62c134-dae0-4295-80aa-8ffd7a40f433",
   "metadata": {},
   "source": [
    "The Planck function gives the spectral radiance $(B_\\lambda \\equiv \\frac{dE}{dt\\,d\\lambda\\,dA\\,d\\Omega})$ of the stellar photosphere for a given temperature:\n",
    "$$B_\\lambda = \\frac{2 h c^2}{\\lambda^5} \\frac{1}{\\exp\\left(\\frac{h c}{\\lambda k_B T}\\right) - 1}$$\n",
    "\n",
    "Spectral flux $(F_\\lambda \\equiv \\frac{dE}{dt\\,d\\lambda\\,dA})$ is the integral of the component of the spectral radiance **in the direction of the observer** $(\\cos\\theta)$:\n",
    "$$F_\\lambda = \\iint B_\\lambda \\cos\\theta \\,d\\Omega = B_\\lambda \\int_0^{2\\pi} \\int_0^{\\pi/2} \\cos\\theta \\sin\\theta \\,d\\theta \\,d\\phi = \\pi B_\\lambda$$\n",
    "\n",
    "Spectral luminosity $(L_\\lambda \\equiv \\frac{dE}{dt\\,d\\lambda})$ is the integral over the surface area of the stellar photosphere:\n",
    "$$L_\\lambda = \\iint F_\\lambda \\,dA = F_\\lambda \\int_0^{2\\pi} \\int_{0}^{\\pi} R^2 \\sin\\theta \\,d\\theta \\,d\\phi = 4 \\pi R^2 F_\\lambda$$\n",
    "\n",
    "Put that all together:\n",
    "$$L_\\lambda = \\frac{8 \\pi^2 R^2 h c^2}{\\lambda^5} \\frac{1}{\\exp\\left(\\frac{h c}{\\lambda k_B T}\\right) - 1}$$\n",
    "\n",
    "This gives you the spectral luminosity as a function of wavelength $\\lambda$ for a star with temperature $T$ and radius $R$. We're going to implement this equation in Python in three different ways:\n",
    "* using only the built-in math module (this contains the constant $\\pi$ and the exponential function)\n",
    "* using NumPy arrays\n",
    "* using Astropy quantities\n",
    "\n",
    "Then calculate spectra for each of the 7 classes of stars (OBAFGKM). In each case, plot the resulting spectra ($L_\\lambda$ vs. $\\lambda$) to check your work. (Hint: a logarithmic $y$-axis might help.)"
   ]
  },
  {
   "cell_type": "code",
   "execution_count": 1,
   "id": "02150d82-ce52-49f3-9c8e-0e0d50f238b6",
   "metadata": {},
   "outputs": [],
   "source": [
    "import matplotlib.pyplot as plt  # we'll learn more about this next time; for now just use plt.plot(x, y)"
   ]
  },
  {
   "cell_type": "markdown",
   "id": "adbc6232-d9b4-4658-a271-57eeb048cd7e",
   "metadata": {},
   "source": [
    "## Using only the built-in math module"
   ]
  },
  {
   "cell_type": "code",
   "execution_count": 2,
   "id": "ef1bd97e-2c65-47fd-b7ff-de3ad6c49b2f",
   "metadata": {},
   "outputs": [],
   "source": [
    "import math\n",
    "\n",
    "# physical constants\n",
    "R_SUN = 6.96e8  # m\n",
    "C_LIGHT = 3.00e8  # m / s\n",
    "H_PLANCK = 6.63e-34  # J / Hz\n",
    "K_BOLTZMANN = 1.38e-23  # J / K"
   ]
  },
  {
   "cell_type": "code",
   "execution_count": null,
   "id": "c46b6459-af66-471e-9e40-572ae5a77c42",
   "metadata": {},
   "outputs": [],
   "source": [
    "wavelengths = [i * 1e-9 for i in range(400,650)] # complete with list\n",
    "temperatures = [2500, 4000, 5200, 6500, 8000, 20000, 35000] # complete with list\n",
    "temperatures = [t + 273.15 for t in temperatures]\n",
    "radii = [0.5, 0.8, 1.0, 1.25, 1.6, 4.0, 8.0] # complete with list"
   ]
  },
  {
   "cell_type": "code",
   "execution_count": 4,
   "id": "7e3b6d7b-45e4-4e30-bf21-b78c91778a57",
   "metadata": {},
   "outputs": [],
   "source": [
    "# do the calculation\n",
    "def luminosity(wavelength, temperature, radius):\n",
    "    radius_meters = radius*R_SUN\n",
    "    part_1 = (8*H_PLANCK*(radius_meters*C_LIGHT*math.pi)**2) / (wavelength**5)\n",
    "    part_2 = math.exp((H_PLANCK*C_LIGHT) / (wavelength*K_BOLTZMANN*temperature))\n",
    "    return part_1 / (part_2 - 1)\n",
    "\n",
    "luminosities = []\n",
    "for i in range(len(temperatures)):\n",
    "    luminosities.append(\n",
    "        [luminosity(wl, temperatures[i], radii[i]) for wl in wavelengths]\n",
    "        )"
   ]
  },
  {
   "cell_type": "code",
   "execution_count": 5,
   "id": "1e550dff-6237-457b-94ac-4835dc037ae1",
   "metadata": {},
   "outputs": [
    {
     "data": {
      "image/png": "[encoded data removed]",
      "text/plain": [
       "<Figure size 640x480 with 1 Axes>"
      ]
     },
     "metadata": {},
     "output_type": "display_data"
    }
   ],
   "source": [
    "# plot the results\n",
    "colors = ['r', 'orange', 'y', 'g', 'b', 'indigo', 'violet']\n",
    "for i in range(len(temperatures)):\n",
    "    plt.plot(wavelengths, luminosities[i], c=colors[i])\n",
    "    plt.yscale('log')\n",
    "plt.show()"
   ]
  },
  {
   "cell_type": "markdown",
   "id": "a144859c-a025-4cf9-9d66-3210b1fcddbf",
   "metadata": {},
   "source": [
    "## Now with NumPy Arrays"
   ]
  },
  {
   "cell_type": "code",
   "execution_count": 6,
   "id": "92d04b69-4aca-4900-8b33-123d4c66b488",
   "metadata": {},
   "outputs": [],
   "source": [
    "import numpy as np"
   ]
  },
  {
   "cell_type": "code",
   "execution_count": null,
   "id": "58e3ce4f-5225-4df4-821e-262fb6f7b5a9",
   "metadata": {},
   "outputs": [],
   "source": [
    "wavelengths = np.arange(400e-9, 650e-9, 1e-9) # complete with numpy array\n",
    "temperatures = np.array([2500.0, 4000.0, 5200.0, 6500.0, 8000.0, 20000.0, 35000.0]) # complete with numpy array\n",
    "temperatures += 273.15\n",
    "radii = np.array([0.5, 0.8, 1.0, 1.25, 1.6, 4.0, 8.0]) # complete with numpy array"
   ]
  },
  {
   "cell_type": "code",
   "execution_count": 8,
   "id": "68f2913d-f503-40e5-883f-7cb94abe99ee",
   "metadata": {},
   "outputs": [],
   "source": [
    "# do the calculation\n",
    "def luminosity_np(wavelengths, temperature, radius):\n",
    "    radius_meters = radius*R_SUN\n",
    "    part_1 = (8*H_PLANCK*(radius_meters*C_LIGHT*np.pi)**2) / (wavelengths**5)\n",
    "    part_2 = np.exp(H_PLANCK*C_LIGHT / (wavelengths*K_BOLTZMANN*temperature))\n",
    "    return part_1 / (part_2 - 1)\n",
    "\n",
    "luminosities = []\n",
    "for i in range(len(temperatures)):\n",
    "    luminosities.append(luminosity_np(wavelengths, temperatures[i], radii[i]))"
   ]
  },
  {
   "cell_type": "code",
   "execution_count": 9,
   "id": "9df12457-9301-4668-89fe-8462846e230e",
   "metadata": {},
   "outputs": [
    {
     "data": {
      "image/png": "[encoded data removed]",
      "text/plain": [
       "<Figure size 640x480 with 1 Axes>"
      ]
     },
     "metadata": {},
     "output_type": "display_data"
    }
   ],
   "source": [
    "# plot the results\n",
    "colors = ['r', 'orange', 'y', 'g', 'b', 'indigo', 'violet']\n",
    "for i in range(len(temperatures)):\n",
    "    plt.plot(wavelengths, luminosities[i], c=colors[i])\n",
    "    plt.yscale('log') \n",
    "plt.show()"
   ]
  },
  {
   "cell_type": "markdown",
   "id": "c0ca6a41-e26f-4488-ab30-2ab8e5b8a7bb",
   "metadata": {},
   "source": [
    "## Now with Astropy Quantities"
   ]
  },
  {
   "cell_type": "code",
   "execution_count": 10,
   "id": "90986067-a38a-442c-986e-38b1d9fc9efe",
   "metadata": {},
   "outputs": [
    {
     "data": {
      "text/plain": [
       "<astropy.visualization.units.quantity_support.<locals>.MplQuantityConverter at 0x233285bfb60>"
      ]
     },
     "execution_count": 10,
     "metadata": {},
     "output_type": "execute_result"
    }
   ],
   "source": [
    "from astropy import units as u\n",
    "from astropy import constants as const\n",
    "from astropy.visualization import quantity_support\n",
    "quantity_support()  "
   ]
  },
  {
   "cell_type": "code",
   "execution_count": null,
   "id": "4be06b43-4c42-4a82-8175-3b420721f82b",
   "metadata": {},
   "outputs": [],
   "source": [
    "wavelengths =  u.Quantity(np.arange(400e-9, 650e-9, 1e-9), u.m)# complete with astropy quantity\n",
    "temperatures = u.Quantity([2500, 4000, 5200, 6500, 8000, 20000, 35000], u.K) # complete with astropy quantity\n",
    "temperatures += 273.15*u.K\n",
    "radii = u.Quantity([0.5, 0.8, 1.0, 1.25, 1.6, 4.0, 8.0], u.solRad).to(u.m) # complete with astropy quantity"
   ]
  },
  {
   "cell_type": "code",
   "execution_count": 12,
   "id": "a62f76dc-4161-47dc-b376-00b522c2c428",
   "metadata": {},
   "outputs": [],
   "source": [
    "# do the calculation\n",
    "def luminosity_ap(wavelengths, temperature, radius_meters):\n",
    "    part_1 = (8*const.h*((radius_meters*const.c*np.pi)**2)) / (wavelengths**5)\n",
    "    part_2 = np.exp(const.h*const.c / (wavelengths*const.k_B*temperature))\n",
    "    return part_1 / (part_2 - 1)\n",
    "\n",
    "luminosities = []\n",
    "for i in range(len(temperatures)):\n",
    "    luminosities.append(luminosity_ap(wavelengths, temperatures[i], radii[i]))\n"
   ]
  },
  {
   "cell_type": "code",
   "execution_count": 13,
   "id": "cd40a44f-f089-4c91-9cce-29d24cfc3aa2",
   "metadata": {},
   "outputs": [
    {
     "data": {
      "image/png": "[encoded data removed]",
      "text/plain": [
       "<Figure size 640x480 with 1 Axes>"
      ]
     },
     "metadata": {},
     "output_type": "display_data"
    }
   ],
   "source": [
    "# plot the results\n",
    "colors = ['r', 'orange', 'y', 'g', 'b', 'indigo', 'violet']\n",
    "for i in range(len(temperatures)):\n",
    "    plt.plot(wavelengths.to(u.nm), luminosities[i], c=colors[i])\n",
    "    plt.yscale('log')\n",
    "plt.show()"
   ]
  },
  {
   "cell_type": "markdown",
   "id": "f9b54db7-dc14-43c4-a68a-82faeef02413",
   "metadata": {},
   "source": [
    "## Compare the performance of these three methods\n",
    "Add the `%%timeit` magic command at the top of each calculation cell to see how long it takes to run. Which is fastest? Which is most convenient?\n",
    "\n",
    "Now increase the number of wavelength samples you are using by a factor of 10. How does this change your timing results?\n",
    "\n",
    "In reality, which one would you use if you had to do this calculation for 7 stars? Which one would you use if you had to do this calculation for a billion stars (the size of the Gaia catalog)?"
   ]
  },
  {
   "cell_type": "markdown",
   "id": "a60f3960-0585-4f4c-9c70-1bffacc84a7e",
   "metadata": {},
   "source": [
    "(`%%timeit` seems to break variable assignment for me, so I am doing all tests here instead)"
   ]
  },
  {
   "cell_type": "markdown",
   "id": "6302c7bf",
   "metadata": {},
   "source": [
    "Only math"
   ]
  },
  {
   "cell_type": "code",
   "execution_count": null,
   "id": "2aabb14f",
   "metadata": {},
   "outputs": [],
   "source": [
    "wavelengths = [i * 1e-10 for i in range(4000,6500)] # complete with list\n",
    "temperatures = [2500, 4000, 5200, 6500, 8000, 20000, 35000] # complete with list\n",
    "temperatures = [t + 273.15 for t in temperatures]\n",
    "radii = [0.5, 0.8, 1.0, 1.25, 1.6, 4.0, 8.0] # complete with list"
   ]
  },
  {
   "cell_type": "code",
   "execution_count": 15,
   "id": "9c885fcf",
   "metadata": {},
   "outputs": [
    {
     "name": "stdout",
     "output_type": "stream",
     "text": [
      "6.33 ms ± 111 μs per loop (mean ± std. dev. of 7 runs, 100 loops each)\n"
     ]
    }
   ],
   "source": [
    "%%timeit\n",
    "# do the calculation\n",
    "def luminosity(wavelength, temperature, radius):\n",
    "    radius_meters = radius*R_SUN\n",
    "    part_1 = (8*H_PLANCK*(radius_meters*C_LIGHT*math.pi)**2) / (wavelength**5)\n",
    "    part_2 = math.e**(H_PLANCK*C_LIGHT / (wavelength*K_BOLTZMANN*temperature))\n",
    "    return part_1 / (part_2 - 1)\n",
    "\n",
    "luminosities = []\n",
    "for i in range(len(temperatures)):\n",
    "    luminosities.append(\n",
    "        [luminosity(wl, temperatures[i], radii[i]) for wl in wavelengths]\n",
    "        )"
   ]
  },
  {
   "cell_type": "markdown",
   "id": "5746b53f",
   "metadata": {},
   "source": [
    "With numpy"
   ]
  },
  {
   "cell_type": "code",
   "execution_count": 25,
   "id": "953d5fdb",
   "metadata": {},
   "outputs": [],
   "source": [
    "wavelengths = np.arange(400e-9, 650e-9, 1e-10) # complete with numpy array\n",
    "temperatures = np.array([2500.0, 4000.0, 5200.0, 6500.0, 8000.0, 20000.0, 35000.0]) # complete with numpy array\n",
    "temperatures += 273.15\n",
    "radii = np.array([0.5, 0.8, 1.0, 1.25, 1.6, 4.0, 8.0]) # complete with numpy array"
   ]
  },
  {
   "cell_type": "code",
   "execution_count": 26,
   "id": "9933abc9",
   "metadata": {},
   "outputs": [
    {
     "name": "stdout",
     "output_type": "stream",
     "text": [
      "360 μs ± 3.72 μs per loop (mean ± std. dev. of 7 runs, 1,000 loops each)\n"
     ]
    }
   ],
   "source": [
    "%%timeit\n",
    "# do the calculation\n",
    "def luminosity_np(wavelengths, temperature, radius):\n",
    "    radius_meters = radius*R_SUN\n",
    "    part_1 = (8*H_PLANCK*(radius_meters*C_LIGHT*np.pi)**2) / (wavelengths**5)\n",
    "    part_2 = np.exp(H_PLANCK*C_LIGHT / (wavelengths*K_BOLTZMANN*temperature))\n",
    "    return part_1 / (part_2 - 1)\n",
    "\n",
    "luminosities = []\n",
    "for i in range(len(temperatures)):\n",
    "    luminosities.append(luminosity_np(wavelengths, temperatures[i], radii[i]))"
   ]
  },
  {
   "cell_type": "markdown",
   "id": "7b4e057e",
   "metadata": {},
   "source": [
    "With astropy"
   ]
  },
  {
   "cell_type": "code",
   "execution_count": 23,
   "id": "79c0225a",
   "metadata": {},
   "outputs": [],
   "source": [
    "wavelengths =  u.Quantity([i * 1e-10 for i in range(4000,6500)], u.nm).to(u.m) # complete with astropy quantity\n",
    "temperatures = u.Quantity([2500, 4000, 5200, 6500, 8000, 20000, 30000], u.K) # complete with astropy quantity\n",
    "temperatures += 273.15*u.K\n",
    "radii = u.Quantity([0.5, 0.8, 1.0, 1.25, 1.6, 4.0, 8.0], u.solRad).to(u.m) # complete with astropy quantity"
   ]
  },
  {
   "cell_type": "code",
   "execution_count": 19,
   "id": "d35e9eed",
   "metadata": {},
   "outputs": [
    {
     "name": "stderr",
     "output_type": "stream",
     "text": [
      "c:\\Users\\tobyh\\Documents\\School\\ASTR\\ASTR 154\\data_venv\\Lib\\site-packages\\astropy\\units\\quantity.py:658: RuntimeWarning: overflow encountered in exp\n",
      "  result = super().__array_ufunc__(function, method, *arrays, **kwargs)\n"
     ]
    },
    {
     "name": "stdout",
     "output_type": "stream",
     "text": [
      "2.74 ms ± 29.5 μs per loop (mean ± std. dev. of 7 runs, 100 loops each)\n"
     ]
    }
   ],
   "source": [
    "%%timeit\n",
    "# do the calculation\n",
    "def luminosity_ap(wavelengths, temperature, radius):\n",
    "    part_1 = (8*(np.pi**2)*(radius**2)*(const.c**2)*const.h) / (wavelengths**5)\n",
    "    part_2 = np.exp(const.h*const.c / (wavelengths*const.k_B*temperature))\n",
    "    return part_1 / (part_2 - 1)\n",
    "\n",
    "luminosities = []\n",
    "for i in range(len(temperatures)):\n",
    "    luminosities.append(luminosity_ap(wavelengths, temperatures[i], radii[i]))"
   ]
  },
  {
   "cell_type": "markdown",
   "id": "acd2796b",
   "metadata": {},
   "source": [
    "As timed, for a large dataset, I would most likely use numpy since it is the fastest (although an overflow error, which I have not been able to solve and does not seem to be reproducible, may be the reason astropy is slower). For a smaller dataset, the setup and googling required for astropy makes it too unwieldy, so I would probably also use numpy for that. The overall time taken for any of these increases linearly with the number of datapoints, so the importance of using faster code increases as the dataset gets larger."
   ]
  },
  {
   "cell_type": "markdown",
   "id": "63b18ed7-f3be-477a-8021-b273a0eb563f",
   "metadata": {},
   "source": [
    "## Save your results using an Astropy Table"
   ]
  },
  {
   "cell_type": "code",
   "execution_count": 20,
   "id": "a647526f-b01c-4e0b-baaa-c175ed87c3aa",
   "metadata": {},
   "outputs": [],
   "source": [
    "from astropy.table import Table"
   ]
  },
  {
   "cell_type": "code",
   "execution_count": 21,
   "id": "fd90f939-0743-4c2a-b7de-238974e207ae",
   "metadata": {},
   "outputs": [
    {
     "data": {
      "text/html": [
       "<div><i>Table length=251</i>\n",
       "<table id=\"table2418749052944\" class=\"table-striped table-bordered table-condensed\">\n",
       "<thead><tr><th>m</th><th>k</th><th>g</th><th>f</th><th>a</th><th>b</th><th>o</th></tr></thead>\n",
       "<thead><tr><th>J / (m s)</th><th>J / (m s)</th><th>J / (m s)</th><th>J / (m s)</th><th>J / (m s)</th><th>J / (m s)</th><th>J / (m s)</th></tr></thead>\n",
       "<thead><tr><th>float64</th><th>float64</th><th>float64</th><th>float64</th><th>float64</th><th>float64</th><th>float64</th></tr></thead>\n",
       "<tr><td>1.2933373850220761e+29</td><td>3.143510266644127e+31</td><td>3.113618571499674e+32</td><td>1.7236205275996586e+33</td><td>7.456427736539444e+33</td><td>7.263199222246788e+35</td><td>8.024754348394838e+36</td></tr>\n",
       "<tr><td>1.3192815543835846e+29</td><td>3.170380968546017e+31</td><td>3.125872048093083e+32</td><td>1.725043340220619e+33</td><td>7.445256663299709e+33</td><td>7.211425816941963e+35</td><td>7.956802479935832e+36</td></tr>\n",
       "<tr><td>1.3455714573187605e+29</td><td>3.197247106501197e+31</td><td>3.1380162851751655e+32</td><td>1.7264082103894664e+33</td><td>7.433938842658439e+33</td><td>7.160088644406687e+35</td><td>7.889560021820774e+36</td></tr>\n",
       "<tr><td>1.3722085214391418e+29</td><td>3.2241066994613986e+31</td><td>3.1500510670125812e+32</td><td>1.727715581012249e+33</td><td>7.422476823353282e+33</td><td>7.109183646961856e+35</td><td>7.823018225224398e+36</td></tr>\n",
       "<tr><td>1.3991941359337328e+29</td><td>3.2509577802833325e+31</td><td>3.161976194496362e+32</td><td>1.7289658960941823e+33</td><td>7.410873130076487e+33</td><td>7.05870680494847e+35</td><td>7.757168464913436e+36</td></tr>\n",
       "<tr><td>1.4265296513054866e+29</td><td>3.277798395956855e+31</td><td>3.1737914849139024e+32</td><td>1.7301596006306638e+33</td><td>7.399130263497086e+33</td><td>7.00865413644557e+35</td><td>7.692002237294609e+36</td></tr>\n",
       "<tr><td>1.4542163791198736e+29</td><td>3.3046266078255265e+31</td><td>3.1854967717211066e+32</td><td>1.7312971405006407e+33</td><td>7.387250700289172e+33</td><td>6.959021696987193e+35</td><td>7.62751115849638e+36</td></tr>\n",
       "<tr><td>1.4822555917654926e+29</td><td>3.3314404917995694e+31</td><td>3.19709190431492e+32</td><td>1.7323789623622995e+33</td><td>7.375236893166007e+33</td><td>6.909805579278452e+35</td><td>7.563686962483802e+36</td></tr>\n",
       "<tr><td>1.510648522226689e+29</td><td>3.3582381385613603e+31</td><td>3.2085767478061886e+32</td><td>1.7334055135510423e+33</td><td>7.363091270919846e+33</td><td>6.861001912910911e+35</td><td>7.500521499205909e+36</td></tr>\n",
       "<tr><td>...</td><td>...</td><td>...</td><td>...</td><td>...</td><td>...</td><td>...</td></tr>\n",
       "<tr><td>1.6137468614860066e+30</td><td>7.083429013094825e+31</td><td>3.53550356534759e+32</td><td>1.2372782904933578e+33</td><td>3.8123114062789415e+33</td><td>1.6523513398243584e+35</td><td>1.504446338366226e+36</td></tr>\n",
       "<tr><td>1.6214953143719485e+30</td><td>7.086388748379293e+31</td><td>3.530890082485757e+32</td><td>1.2342624450917894e+33</td><td>3.7998734406042033e+33</td><td>1.6437633987726012e+35</td><td>1.4959257517750476e+36</td></tr>\n",
       "<tr><td>1.6292371425832263e+30</td><td>7.0892574461414965e+31</td><td>3.526256809561742e+32</td><td>1.2312497009102569e+33</td><td>3.7874739011831396e+33</td><td>1.635230382384218e+35</td><td>1.487465172962705e+36</td></tr>\n",
       "<tr><td>1.6369721330745954e+30</td><td>7.092035565929779e+31</td><td>3.521604030829575e+32</td><td>1.2282401149647184e+33</td><td>3.7751127580814614e+33</td><td>1.6267518768559474e+35</td><td>1.4790640975884758e+36</td></tr>\n",
       "<tr><td>1.6447000741312177e+30</td><td>7.094723567712207e+31</td><td>3.516932028439293e+32</td><td>1.2252337434270342e+33</td><td>3.7627899798548977e+33</td><td>1.6183274719410911e+35</td><td>1.4707220262277636e+36</td></tr>\n",
       "<tr><td>1.6524207553747602e+30</td><td>7.0973219118359e+31</td><td>3.512241082444505e+32</td><td>1.2222306416334538e+33</td><td>3.7505055335758027e+33</td><td>1.609956760915542e+35</td><td>1.4624384643176768e+36</td></tr>\n",
       "<tr><td>1.6601339677692792e+30</td><td>7.099831058986873e+31</td><td>3.507531470810074e+32</td><td>1.219230864093036e+33</td><td>3.7382593848593977e+33</td><td>1.6016393405441789e+35</td><td>1.4542129221032835e+36</td></tr>\n",
       "<tr><td>1.66783950362689e+30</td><td>7.102251470150428e+31</td><td>3.502803469419881e+32</td><td>1.2162344644960144e+33</td><td>3.7260514978896775e+33</td><td>1.593374811047603e+35</td><td>1.4460449145845286e+36</td></tr>\n",
       "<tr><td>1.675537156613274e+30</td><td>7.10458360657223e+31</td><td>3.4980573520846984e+32</td><td>1.2132414957220855e+33</td><td>3.713881835444985e+33</td><td>1.5851627760692153e+35</td><td>1.4379339614638067e+36</td></tr>\n",
       "</table></div>"
      ],
      "text/plain": [
       "<Table length=251>\n",
       "          m                      k            ...           o           \n",
       "      J / (m s)              J / (m s)        ...       J / (m s)       \n",
       "       float64                float64         ...        float64        \n",
       "---------------------- ---------------------- ... ----------------------\n",
       "1.2933373850220761e+29  3.143510266644127e+31 ...  8.024754348394838e+36\n",
       "1.3192815543835846e+29  3.170380968546017e+31 ...  7.956802479935832e+36\n",
       "1.3455714573187605e+29  3.197247106501197e+31 ...  7.889560021820774e+36\n",
       "1.3722085214391418e+29 3.2241066994613986e+31 ...  7.823018225224398e+36\n",
       "1.3991941359337328e+29 3.2509577802833325e+31 ...  7.757168464913436e+36\n",
       "1.4265296513054866e+29  3.277798395956855e+31 ...  7.692002237294609e+36\n",
       "1.4542163791198736e+29 3.3046266078255265e+31 ...   7.62751115849638e+36\n",
       "1.4822555917654926e+29 3.3314404917995694e+31 ...  7.563686962483802e+36\n",
       " 1.510648522226689e+29 3.3582381385613603e+31 ...  7.500521499205909e+36\n",
       "                   ...                    ... ...                    ...\n",
       "1.6137468614860066e+30  7.083429013094825e+31 ...  1.504446338366226e+36\n",
       "1.6214953143719485e+30  7.086388748379293e+31 ... 1.4959257517750476e+36\n",
       "1.6292371425832263e+30 7.0892574461414965e+31 ...  1.487465172962705e+36\n",
       "1.6369721330745954e+30  7.092035565929779e+31 ... 1.4790640975884758e+36\n",
       "1.6447000741312177e+30  7.094723567712207e+31 ... 1.4707220262277636e+36\n",
       "1.6524207553747602e+30    7.0973219118359e+31 ... 1.4624384643176768e+36\n",
       "1.6601339677692792e+30  7.099831058986873e+31 ... 1.4542129221032835e+36\n",
       "  1.66783950362689e+30  7.102251470150428e+31 ... 1.4460449145845286e+36\n",
       " 1.675537156613274e+30   7.10458360657223e+31 ... 1.4379339614638067e+36"
      ]
     },
     "execution_count": 21,
     "metadata": {},
     "output_type": "execute_result"
    }
   ],
   "source": [
    "table = Table(luminosities, names = ['m', 'k', 'g', 'f', 'a', 'b', 'o']) # create an astropy table containing your results\n",
    "table  # look at the results"
   ]
  },
  {
   "cell_type": "code",
   "execution_count": 22,
   "id": "4ff43aef-9ddf-49ee-9e0d-b9844f8a4f50",
   "metadata": {},
   "outputs": [
    {
     "ename": "OSError",
     "evalue": "File luminosity_table.ecsv already exists. If you mean to replace it then use the argument \"overwrite=True\".",
     "output_type": "error",
     "traceback": [
      "\u001b[31m---------------------------------------------------------------------------\u001b[39m",
      "\u001b[31mOSError\u001b[39m                                   Traceback (most recent call last)",
      "\u001b[36mCell\u001b[39m\u001b[36m \u001b[39m\u001b[32mIn[22]\u001b[39m\u001b[32m, line 2\u001b[39m\n\u001b[32m      1\u001b[39m \u001b[38;5;66;03m# save your table to a file on your hard drive\u001b[39;00m\n\u001b[32m----> \u001b[39m\u001b[32m2\u001b[39m \u001b[43mtable\u001b[49m\u001b[43m.\u001b[49m\u001b[43mwrite\u001b[49m\u001b[43m(\u001b[49m\u001b[33;43m'\u001b[39;49m\u001b[33;43mluminosity_table.ecsv\u001b[39;49m\u001b[33;43m'\u001b[39;49m\u001b[43m)\u001b[49m\n",
      "\u001b[36mFile \u001b[39m\u001b[32mc:\\Users\\tobyh\\Documents\\School\\ASTR\\ASTR 154\\data_venv\\Lib\\site-packages\\astropy\\table\\connect.py:130\u001b[39m, in \u001b[36mTableWrite.__call__\u001b[39m\u001b[34m(self, serialize_method, *args, **kwargs)\u001b[39m\n\u001b[32m    128\u001b[39m instance = \u001b[38;5;28mself\u001b[39m._instance\n\u001b[32m    129\u001b[39m \u001b[38;5;28;01mwith\u001b[39;00m serialize_method_as(instance, serialize_method):\n\u001b[32m--> \u001b[39m\u001b[32m130\u001b[39m     \u001b[38;5;28;43mself\u001b[39;49m\u001b[43m.\u001b[49m\u001b[43mregistry\u001b[49m\u001b[43m.\u001b[49m\u001b[43mwrite\u001b[49m\u001b[43m(\u001b[49m\u001b[43minstance\u001b[49m\u001b[43m,\u001b[49m\u001b[43m \u001b[49m\u001b[43m*\u001b[49m\u001b[43margs\u001b[49m\u001b[43m,\u001b[49m\u001b[43m \u001b[49m\u001b[43m*\u001b[49m\u001b[43m*\u001b[49m\u001b[43mkwargs\u001b[49m\u001b[43m)\u001b[49m\n",
      "\u001b[36mFile \u001b[39m\u001b[32mc:\\Users\\tobyh\\Documents\\School\\ASTR\\ASTR 154\\data_venv\\Lib\\site-packages\\astropy\\io\\registry\\core.py:386\u001b[39m, in \u001b[36mUnifiedOutputRegistry.write\u001b[39m\u001b[34m(self, data, format, *args, **kwargs)\u001b[39m\n\u001b[32m    381\u001b[39m     \u001b[38;5;28mformat\u001b[39m = \u001b[38;5;28mself\u001b[39m._get_valid_format(\n\u001b[32m    382\u001b[39m         \u001b[33m\"\u001b[39m\u001b[33mwrite\u001b[39m\u001b[33m\"\u001b[39m, data.\u001b[34m__class__\u001b[39m, path, fileobj, args, kwargs\n\u001b[32m    383\u001b[39m     )\n\u001b[32m    385\u001b[39m writer = \u001b[38;5;28mself\u001b[39m.get_writer(\u001b[38;5;28mformat\u001b[39m, data.\u001b[34m__class__\u001b[39m)\n\u001b[32m--> \u001b[39m\u001b[32m386\u001b[39m \u001b[38;5;28;01mreturn\u001b[39;00m \u001b[43mwriter\u001b[49m\u001b[43m(\u001b[49m\u001b[43mdata\u001b[49m\u001b[43m,\u001b[49m\u001b[43m \u001b[49m\u001b[43m*\u001b[49m\u001b[43margs\u001b[49m\u001b[43m,\u001b[49m\u001b[43m \u001b[49m\u001b[43m*\u001b[49m\u001b[43m*\u001b[49m\u001b[43mkwargs\u001b[49m\u001b[43m)\u001b[49m\n",
      "\u001b[36mFile \u001b[39m\u001b[32mc:\\Users\\tobyh\\Documents\\School\\ASTR\\ASTR 154\\data_venv\\Lib\\site-packages\\astropy\\io\\ascii\\connect.py:28\u001b[39m, in \u001b[36mio_write\u001b[39m\u001b[34m(format, table, filename, **kwargs)\u001b[39m\n\u001b[32m     26\u001b[39m     \u001b[38;5;28mformat\u001b[39m = re.sub(\u001b[33mr\u001b[39m\u001b[33m\"\u001b[39m\u001b[33m^ascii\u001b[39m\u001b[33m\\\u001b[39m\u001b[33m.\u001b[39m\u001b[33m\"\u001b[39m, \u001b[33m\"\u001b[39m\u001b[33m\"\u001b[39m, \u001b[38;5;28mformat\u001b[39m)\n\u001b[32m     27\u001b[39m     kwargs[\u001b[33m\"\u001b[39m\u001b[33mformat\u001b[39m\u001b[33m\"\u001b[39m] = \u001b[38;5;28mformat\u001b[39m\n\u001b[32m---> \u001b[39m\u001b[32m28\u001b[39m \u001b[38;5;28;01mreturn\u001b[39;00m \u001b[43mwrite\u001b[49m\u001b[43m(\u001b[49m\u001b[43mtable\u001b[49m\u001b[43m,\u001b[49m\u001b[43m \u001b[49m\u001b[43mfilename\u001b[49m\u001b[43m,\u001b[49m\u001b[43m \u001b[49m\u001b[43m*\u001b[49m\u001b[43m*\u001b[49m\u001b[43mkwargs\u001b[49m\u001b[43m)\u001b[49m\n",
      "\u001b[36mFile \u001b[39m\u001b[32mc:\\Users\\tobyh\\Documents\\School\\ASTR\\ASTR 154\\data_venv\\Lib\\site-packages\\astropy\\io\\ascii\\ui.py:1049\u001b[39m, in \u001b[36mwrite\u001b[39m\u001b[34m(table, output, format, fast_writer, overwrite, **kwargs)\u001b[39m\n\u001b[32m   1047\u001b[39m     output = os.path.expanduser(output)  \u001b[38;5;66;03m# noqa: PTH111\u001b[39;00m\n\u001b[32m   1048\u001b[39m     \u001b[38;5;28;01mif\u001b[39;00m \u001b[38;5;129;01mnot\u001b[39;00m overwrite \u001b[38;5;129;01mand\u001b[39;00m os.path.lexists(output):\n\u001b[32m-> \u001b[39m\u001b[32m1049\u001b[39m         \u001b[38;5;28;01mraise\u001b[39;00m \u001b[38;5;167;01mOSError\u001b[39;00m(NOT_OVERWRITING_MSG.format(output))\n\u001b[32m   1051\u001b[39m \u001b[38;5;28;01mif\u001b[39;00m output \u001b[38;5;129;01mis\u001b[39;00m \u001b[38;5;28;01mNone\u001b[39;00m:\n\u001b[32m   1052\u001b[39m     output = sys.stdout\n",
      "\u001b[31mOSError\u001b[39m: File luminosity_table.ecsv already exists. If you mean to replace it then use the argument \"overwrite=True\"."
     ]
    }
   ],
   "source": [
    "# save your table to a file on your hard drive\n",
    "table.write('luminosity_table.ecsv')"
   ]
  },
  {
   "cell_type": "code",
   "execution_count": null,
   "id": "8e38c909-70c9-42a8-9fd9-2377e237306f",
   "metadata": {},
   "outputs": [
    {
     "data": {
      "text/html": [
       "<div><i>Table length=251</i>\n",
       "<table id=\"table2214378504544\" class=\"table-striped table-bordered table-condensed\">\n",
       "<thead><tr><th>m</th><th>k</th><th>g</th><th>f</th><th>a</th><th>b</th><th>o</th></tr></thead>\n",
       "<thead><tr><th>J / (m s)</th><th>J / (m s)</th><th>J / (m s)</th><th>J / (m s)</th><th>J / (m s)</th><th>J / (m s)</th><th>J / (m s)</th></tr></thead>\n",
       "<thead><tr><th>float64</th><th>float64</th><th>float64</th><th>float64</th><th>float64</th><th>float64</th><th>float64</th></tr></thead>\n",
       "<tr><td>3.135038550475232e+28</td><td>1.76902852728929e+31</td><td>2.2037451158481097e+32</td><td>1.3774960595220446e+33</td><td>6.416175847576936e+33</td><td>7.054816937213728e+35</td><td>7.925699211962286e+36</td></tr>\n",
       "<tr><td>3.20924854967443e+28</td><td>1.7867061543049124e+31</td><td>2.2143102541711776e+32</td><td>1.379385370152367e+33</td><td>6.408834669256593e+33</td><td>7.004854440022819e+35</td><td>7.858689787635626e+36</td></tr>\n",
       "<tr><td>3.284730944452315e+28</td><td>1.8044153098358866e+31</td><td>2.2248047586709356e+32</td><td>1.3812260653651517e+33</td><td>6.40134901217587e+33</td><td>6.95530920473037e+35</td><td>7.792378695787638e+36</td></tr>\n",
       "<tr><td>3.36149709551217e+28</td><td>1.822154676806539e+31</td><td>2.2352282333294677e+32</td><td>1.38301843857226e+33</td><td>6.393721067446151e+33</td><td>6.906177402088784e+35</td><td>7.726757341959806e+36</td></tr>\n",
       "<tr><td>3.439558290169895e+28</td><td>1.8399229410164139e+31</td><td>2.2455802954414273e+32</td><td>1.3847627854066046e+33</td><td>6.385953008690777e+33</td><td>6.857455237832234e+35</td><td>7.661817252807936e+36</td></tr>\n",
       "<tr><td>3.5189257398842504e+28</td><td>1.857718791370534e+31</td><td>2.2558605754869454e+32</td><td>1.3864594036221681e+33</td><td>6.378046991987836e+33</td><td>6.809138952437384e+35</td><td>7.597550074194976e+36</td></tr>\n",
       "<tr><td>3.5996105778126623e+28</td><td>1.8755409201053824e+31</td><td>2.2660687170035104e+32</td><td>1.3881085929957858e+33</td><td>6.370005155819353e+33</td><td>6.761224820882567e+35</td><td>7.533947569316692e+36</td></tr>\n",
       "<tr><td>3.6816238563929777e+28</td><td>1.8933880230105387e+31</td><td>2.2762043764567498e+32</td><td>1.389710655230682e+33</td><td>6.361829621026609e+33</td><td>6.713709152405451e+35</td><td>7.47100161685959e+36</td></tr>\n",
       "<tr><td>3.764976544952181e+28</td><td>1.9112587996460667e+31</td><td>2.2862672231103183e+32</td><td>1.3912658938617295e+33</td><td>6.353522490771547e+33</td><td>6.66658829025945e+35</td><td>7.408704209190491e+36</td></tr>\n",
       "<tr><td>...</td><td>...</td><td>...</td><td>...</td><td>...</td><td>...</td><td>...</td></tr>\n",
       "<tr><td>6.672481219785729e+29</td><td>4.943254105018832e+31</td><td>2.841956478076845e+32</td><td>1.0713879605001957e+33</td><td>3.453747797968561e+33</td><td>1.6156110283579986e+35</td><td>1.488709952037413e+36</td></tr>\n",
       "<tr><td>6.713718124564047e+29</td><td>4.948020152798875e+31</td><td>2.8391503147415093e+32</td><td>1.0689871835891694e+33</td><td>3.44290945864069e+33</td><td>1.6072396291304497e+35</td><td>1.4802853940135937e+36</td></tr>\n",
       "<tr><td>6.754999231915732e+29</td><td>4.952717573251592e+31</td><td>2.836323139393989e+32</td><td>1.0665873803851316e+33</td><td>3.432101676553956e+33</td><td>1.5989215794602943e+35</td><td>1.471920114916908e+36</td></tr>\n",
       "<tr><td>6.796323345726505e+29</td><td>4.957346601698938e+31</td><td>2.8334751877751947e+32</td><td>1.0641886099529775e+33</td><td>3.421324458679222e+33</td><td>1.5906564791089402e+35</td><td>1.463613617011575e+36</td></tr>\n",
       "<tr><td>6.837689271582449e+29</td><td>4.96190747492696e+31</td><td>2.8306066941924952e+32</td><td>1.0617909306069351e+33</td><td>3.4105778103862256e+33</td><td>1.5824439312600215e+35</td><td>1.455365407408468e+36</td></tr>\n",
       "<tr><td>6.879095816851411e+29</td><td>4.966400431150556e+31</td><td>2.8277178915211332e+32</td><td>1.0593943999173054e+33</td><td>3.399861735468643e+33</td><td>1.574283542486933e+35</td><td>1.4471749980115185e+36</td></tr>\n",
       "<tr><td>6.920541790763276e+29</td><td>4.970825709978489e+31</td><td>2.824809011205765e+32</td><td>1.0569990747171654e+33</td><td>3.3891762361688214e+33</td><td>1.566174922720695e+35</td><td>1.439041905464795e+36</td></tr>\n",
       "<tr><td>6.962026004489385e+29</td><td>4.975183552378841e+31</td><td>2.821880283262142e+32</td><td>1.0546050111090268e+33</td><td>3.3785213132022275e+33</td><td>1.558117685218151e+35</td><td>1.4309656511002292e+36</td></tr>\n",
       "<tr><td>7.00354727122109e+29</td><td>4.979474200644845e+31</td><td>2.8189319362789038e+32</td><td>1.052212264471459e+33</td><td>3.3678969657816006e+33</td><td>1.5501114465304906e+35</td><td>1.4229457608859826e+36</td></tr>\n",
       "</table></div>"
      ],
      "text/plain": [
       "<Table length=251>\n",
       "          m                      k            ...           o           \n",
       "      J / (m s)              J / (m s)        ...       J / (m s)       \n",
       "       float64                float64         ...        float64        \n",
       "---------------------- ---------------------- ... ----------------------\n",
       " 3.135038550475232e+28   1.76902852728929e+31 ...  7.925699211962286e+36\n",
       "  3.20924854967443e+28 1.7867061543049124e+31 ...  7.858689787635626e+36\n",
       " 3.284730944452315e+28 1.8044153098358866e+31 ...  7.792378695787638e+36\n",
       "  3.36149709551217e+28  1.822154676806539e+31 ...  7.726757341959806e+36\n",
       " 3.439558290169895e+28 1.8399229410164139e+31 ...  7.661817252807936e+36\n",
       "3.5189257398842504e+28  1.857718791370534e+31 ...  7.597550074194976e+36\n",
       "3.5996105778126623e+28 1.8755409201053824e+31 ...  7.533947569316692e+36\n",
       "3.6816238563929777e+28 1.8933880230105387e+31 ...   7.47100161685959e+36\n",
       " 3.764976544952181e+28 1.9112587996460667e+31 ...  7.408704209190491e+36\n",
       "                   ...                    ... ...                    ...\n",
       " 6.672481219785729e+29  4.943254105018832e+31 ...  1.488709952037413e+36\n",
       " 6.713718124564047e+29  4.948020152798875e+31 ... 1.4802853940135937e+36\n",
       " 6.754999231915732e+29  4.952717573251592e+31 ...  1.471920114916908e+36\n",
       " 6.796323345726505e+29  4.957346601698938e+31 ...  1.463613617011575e+36\n",
       " 6.837689271582449e+29   4.96190747492696e+31 ...  1.455365407408468e+36\n",
       " 6.879095816851411e+29  4.966400431150556e+31 ... 1.4471749980115185e+36\n",
       " 6.920541790763276e+29  4.970825709978489e+31 ...  1.439041905464795e+36\n",
       " 6.962026004489385e+29  4.975183552378841e+31 ... 1.4309656511002292e+36\n",
       "  7.00354727122109e+29  4.979474200644845e+31 ... 1.4229457608859826e+36"
      ]
     },
     "execution_count": 23,
     "metadata": {},
     "output_type": "execute_result"
    }
   ],
   "source": [
    "table2 =  Table.read('luminosity_table.ecsv')# read in the file you just saved\n",
    "table2  # look at the results"
   ]
  },
  {
   "cell_type": "code",
   "execution_count": null,
   "id": "3b17b47f-6576-4aac-aefd-3e584eb0666a",
   "metadata": {},
   "outputs": [
    {
     "data": {
      "text/plain": [
       "np.True_"
      ]
     },
     "execution_count": 24,
     "metadata": {},
     "output_type": "execute_result"
    }
   ],
   "source": [
    "np.all(table == table2)"
   ]
  }
 ],
 "metadata": {
  "kernelspec": {
   "display_name": "data_venv",
   "language": "python",
   "name": "python3"
  },
  "language_info": {
   "codemirror_mode": {
    "name": "ipython",
    "version": 3
   },
   "file_extension": ".py",
   "mimetype": "text/x-python",
   "name": "python",
   "nbconvert_exporter": "python",
   "pygments_lexer": "ipython3",
   "version": "3.13.2"
  }
 },
 "nbformat": 4,
 "nbformat_minor": 5
}
