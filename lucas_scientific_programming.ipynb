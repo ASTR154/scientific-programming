{
 "cells": [
  {
   "cell_type": "markdown",
   "id": "3dc34a97-4085-4fa6-86f6-bcc0c7976e12",
   "metadata": {},
   "source": [
    "# Intro to Scientific Programming\n",
    "By G Hosseinzadeh 2025 Apr 15"
   ]
  },
  {
   "cell_type": "markdown",
   "id": "123f13f8-e837-47f8-876b-fc7f5c0b2479",
   "metadata": {},
   "source": [
    "Let's imagine you want to generate synthetic spectra of different types of stars. The figure below shows approximate temperature and radius ranges for each type. In reality they have some absorption lines (shown at left), but for now let's approximate them as perfect blackbody emitters."
   ]
  },
  {
   "cell_type": "markdown",
   "id": "58dc0958-a8fb-4dab-84ff-a97623afc499",
   "metadata": {},
   "source": [
    "![main sequence stars](https://upload.wikimedia.org/wikipedia/commons/3/37/Stellar_Classification_Chart.png)  \n",
    "Credit: Pablo Carlos Budassi (Wikimedia.org)"
   ]
  },
  {
   "cell_type": "markdown",
   "id": "8e62c134-dae0-4295-80aa-8ffd7a40f433",
   "metadata": {},
   "source": [
    "The Planck function gives the spectral radiance $(B_\\lambda \\equiv \\frac{dE}{dt\\,d\\lambda\\,dA\\,d\\Omega})$ of the stellar photosphere for a given temperature:\n",
    "$$B_\\lambda = \\frac{2 h c^2}{\\lambda^5} \\frac{1}{\\exp\\left(\\frac{h c}{\\lambda k_B T}\\right) - 1}$$\n",
    "\n",
    "Spectral flux $(F_\\lambda \\equiv \\frac{dE}{dt\\,d\\lambda\\,dA})$ is the integral of the component of the spectral radiance **in the direction of the observer** $(\\cos\\theta)$:\n",
    "$$F_\\lambda = \\iint B_\\lambda \\cos\\theta \\,d\\Omega = B_\\lambda \\int_0^{2\\pi} \\int_0^{\\pi/2} \\cos\\theta \\sin\\theta \\,d\\theta \\,d\\phi = \\pi B_\\lambda$$\n",
    "\n",
    "Spectral luminosity $(L_\\lambda \\equiv \\frac{dE}{dt\\,d\\lambda})$ is the integral over the surface area of the stellar photosphere:\n",
    "$$L_\\lambda = \\iint F_\\lambda \\,dA = F_\\lambda \\int_0^{2\\pi} \\int_{0}^{\\pi} R^2 \\sin\\theta \\,d\\theta \\,d\\phi = 4 \\pi R^2 F_\\lambda$$\n",
    "\n",
    "Put that all together:\n",
    "$$L_\\lambda = \\frac{8 \\pi^2 R^2 h c^2}{\\lambda^5} \\frac{1}{\\exp\\left(\\frac{h c}{\\lambda k_B T}\\right) - 1}$$\n",
    "\n",
    "This gives you the spectral luminosity as a function of wavelength $\\lambda$ for a star with temperature $T$ and radius $R$. We're going to implement this equation in Python in three different ways:\n",
    "* using only the built-in math module (this contains the constant $\\pi$ and the exponential function)\n",
    "* using NumPy arrays\n",
    "* using Astropy quantities\n",
    "\n",
    "Then calculate spectra for each of the 7 classes of stars (OBAFGKM). In each case, plot the resulting spectra ($L_\\lambda$ vs. $\\lambda$) to check your work. (Hint: a logarithmic $y$-axis might help.)"
   ]
  },
  {
   "cell_type": "code",
   "execution_count": 14,
   "id": "02150d82-ce52-49f3-9c8e-0e0d50f238b6",
   "metadata": {},
   "outputs": [],
   "source": [
    "import matplotlib.pyplot as plt  # we'll learn more about this next time; for now just use plt.plot(x, y)"
   ]
  },
  {
   "cell_type": "markdown",
   "id": "adbc6232-d9b4-4658-a271-57eeb048cd7e",
   "metadata": {},
   "source": [
    "## Using only the built-in math module"
   ]
  },
  {
   "cell_type": "code",
   "execution_count": 2,
   "id": "ef1bd97e-2c65-47fd-b7ff-de3ad6c49b2f",
   "metadata": {},
   "outputs": [],
   "source": [
    "import math\n",
    "\n",
    "# physical constants\n",
    "R_SUN = 6.96e8  # m\n",
    "C_LIGHT = 3.00e8  # m / s\n",
    "H_PLANCK = 6.63e-34  # J / Hz\n",
    "K_BOLTZMANN = 1.38e-23  # J / K"
   ]
  },
  {
   "cell_type": "code",
   "execution_count": 24,
   "id": "c46b6459-af66-471e-9e40-572ae5a77c42",
   "metadata": {},
   "outputs": [],
   "source": [
    "wavelengths = [400., 420., 450., 500., \n",
    "               550., 600., 650.]\n",
    "\n",
    "temperatures = [29000., 18000., 8000., 6500., \n",
    "                5300., 4200., 2900.]\n",
    "\n",
    "radii = [5., 4., 1.6, 1.2, \n",
    "         1., 0.8, 0.4]"
   ]
  },
  {
   "cell_type": "code",
   "execution_count": 12,
   "id": "7e3b6d7b-45e4-4e30-bf21-b78c91778a57",
   "metadata": {},
   "outputs": [
    {
     "data": {
      "text/plain": [
       "[9.247997376779615e-18,\n",
       " 3.0223514205571143e-18,\n",
       " 1.6309082102508909e-19,\n",
       " 4.890412155586441e-20,\n",
       " 1.8913622912290857e-20,\n",
       " 6.772887780432398e-21,\n",
       " 8.488172009795616e-22]"
      ]
     },
     "execution_count": 12,
     "metadata": {},
     "output_type": "execute_result"
    }
   ],
   "source": [
    "luminosities = []\n",
    "for n in range(0,7):\n",
    "    expo = (H_PLANCK * C_LIGHT) / (wavelengths[n] * K_BOLTZMANN * temperatures[n])\n",
    "    \n",
    "    lum = (8 * (3.14 ** 2) * (radii[n] ** 2) * \n",
    "           H_PLANCK * (C_LIGHT) ** 2) / (wavelengths[n] ** 5) / ((math.e ** (expo)) - 1) \n",
    "    \n",
    "    luminosities.append(lum)\n",
    "    \n",
    "luminosities"
   ]
  },
  {
   "cell_type": "code",
   "execution_count": 17,
   "id": "1e550dff-6237-457b-94ac-4835dc037ae1",
   "metadata": {},
   "outputs": [
    {
     "data": {
      "text/plain": [
       "[<matplotlib.lines.Line2D at 0x7fa4488295b0>]"
      ]
     },
     "execution_count": 17,
     "metadata": {},
     "output_type": "execute_result"
    },
    {
     "data": {
      "image/png": "[encoded data removed]",
      "text/plain": [
       "<Figure size 432x288 with 1 Axes>"
      ]
     },
     "metadata": {
      "needs_background": "light"
     },
     "output_type": "display_data"
    }
   ],
   "source": [
    "plt.scatter(wavelengths, luminosities)\n",
    "plt.plot(wavelengths, luminosities)"
   ]
  },
  {
   "cell_type": "markdown",
   "id": "a144859c-a025-4cf9-9d66-3210b1fcddbf",
   "metadata": {},
   "source": [
    "## Now with NumPy Arrays"
   ]
  },
  {
   "cell_type": "code",
   "execution_count": 18,
   "id": "92d04b69-4aca-4900-8b33-123d4c66b488",
   "metadata": {},
   "outputs": [],
   "source": [
    "import numpy as np"
   ]
  },
  {
   "cell_type": "code",
   "execution_count": 26,
   "id": "58e3ce4f-5225-4df4-821e-262fb6f7b5a9",
   "metadata": {},
   "outputs": [],
   "source": [
    "wavelength =  np.linspace(400, 650, 7)\n",
    "temperature = np.array(temperatures)\n",
    "radius = np.array(radii)"
   ]
  },
  {
   "cell_type": "code",
   "execution_count": 31,
   "id": "68f2913d-f503-40e5-883f-7cb94abe99ee",
   "metadata": {},
   "outputs": [
    {
     "data": {
      "text/plain": [
       "array([9.25738119e-18, 2.47402505e-18, 1.22668496e-19, 4.02743647e-20,\n",
       "       1.68017792e-20, 6.41583049e-21, 8.49678484e-22])"
      ]
     },
     "execution_count": 31,
     "metadata": {},
     "output_type": "execute_result"
    }
   ],
   "source": [
    "expo = (H_PLANCK * C_LIGHT) / (wavelength * K_BOLTZMANN * temperature)\n",
    "lum = lum = (8 * (np.pi ** 2) * (radius ** 2) * \n",
    "           H_PLANCK * (C_LIGHT) ** 2) / (wavelength ** 5) / ((np.exp(expo)) - 1) \n",
    "lum"
   ]
  },
  {
   "cell_type": "code",
   "execution_count": 32,
   "id": "9df12457-9301-4668-89fe-8462846e230e",
   "metadata": {},
   "outputs": [
    {
     "data": {
      "text/plain": [
       "<matplotlib.collections.PathCollection at 0x7fa4197bcf70>"
      ]
     },
     "execution_count": 32,
     "metadata": {},
     "output_type": "execute_result"
    },
    {
     "data": {
      "image/png": "[encoded data removed]",
      "text/plain": [
       "<Figure size 432x288 with 1 Axes>"
      ]
     },
     "metadata": {
      "needs_background": "light"
     },
     "output_type": "display_data"
    }
   ],
   "source": [
    "plt.plot(wavelength, lum)\n",
    "plt.scatter(wavelength, lum)"
   ]
  },
  {
   "cell_type": "markdown",
   "id": "c0ca6a41-e26f-4488-ab30-2ab8e5b8a7bb",
   "metadata": {},
   "source": [
    "## Now with Astropy Quantities"
   ]
  },
  {
   "cell_type": "code",
   "execution_count": null,
   "id": "90986067-a38a-442c-986e-38b1d9fc9efe",
   "metadata": {},
   "outputs": [],
   "source": [
    "from astropy import units as u\n",
    "from astropy import constants as const\n",
    "from astropy.visualization import quantity_support\n",
    "quantity_support()  "
   ]
  },
  {
   "cell_type": "code",
   "execution_count": null,
   "id": "4be06b43-4c42-4a82-8175-3b420721f82b",
   "metadata": {},
   "outputs": [],
   "source": [
    "wavelengths =  # complete with astropy quantity\n",
    "temperatures =  # complete with astropy quantity\n",
    "radii =  # complete with astropy quantity"
   ]
  },
  {
   "cell_type": "code",
   "execution_count": null,
   "id": "a62f76dc-4161-47dc-b376-00b522c2c428",
   "metadata": {},
   "outputs": [],
   "source": [
    "# do the calculation"
   ]
  },
  {
   "cell_type": "code",
   "execution_count": null,
   "id": "cd40a44f-f089-4c91-9cce-29d24cfc3aa2",
   "metadata": {},
   "outputs": [],
   "source": [
    "# plot the results"
   ]
  },
  {
   "cell_type": "markdown",
   "id": "f9b54db7-dc14-43c4-a68a-82faeef02413",
   "metadata": {},
   "source": [
    "## Compare the performance of these three methods\n",
    "Add the `%%timeit` magic command at the top of each calculation cell to see how long it takes to run. Which is fastest? Which is most convenient?\n",
    "\n",
    "Now increase the number of wavelength samples you are using by a factor of 10. How does this change your timing results?\n",
    "\n",
    "In reality, which one would you use if you had to do this calculation for 7 stars? Which one would you use if you had to do this calculation for a billion stars (the size of the Gaia catalog)?"
   ]
  },
  {
   "cell_type": "markdown",
   "id": "a60f3960-0585-4f4c-9c70-1bffacc84a7e",
   "metadata": {},
   "source": [
    "(Write your answers here.)"
   ]
  },
  {
   "cell_type": "markdown",
   "id": "63b18ed7-f3be-477a-8021-b273a0eb563f",
   "metadata": {},
   "source": [
    "## Save your results using an Astropy Table"
   ]
  },
  {
   "cell_type": "code",
   "execution_count": null,
   "id": "a647526f-b01c-4e0b-baaa-c175ed87c3aa",
   "metadata": {},
   "outputs": [],
   "source": [
    "from astropy.table import Table"
   ]
  },
  {
   "cell_type": "code",
   "execution_count": null,
   "id": "fd90f939-0743-4c2a-b7de-238974e207ae",
   "metadata": {},
   "outputs": [],
   "source": [
    "table =  # create an astropy table containing your results\n",
    "table  # look at the results"
   ]
  },
  {
   "cell_type": "code",
   "execution_count": null,
   "id": "4ff43aef-9ddf-49ee-9e0d-b9844f8a4f50",
   "metadata": {},
   "outputs": [],
   "source": [
    "# save your table to a file on your hard drive"
   ]
  },
  {
   "cell_type": "code",
   "execution_count": null,
   "id": "8e38c909-70c9-42a8-9fd9-2377e237306f",
   "metadata": {},
   "outputs": [],
   "source": [
    "table2 =  # read in the file you just saved\n",
    "table2  # look at the results"
   ]
  },
  {
   "cell_type": "code",
   "execution_count": null,
   "id": "3b17b47f-6576-4aac-aefd-3e584eb0666a",
   "metadata": {},
   "outputs": [],
   "source": []
  }
 ],
 "metadata": {
  "kernelspec": {
   "display_name": "Python 3 (ipykernel)",
   "language": "python",
   "name": "python3"
  },
  "language_info": {
   "codemirror_mode": {
    "name": "ipython",
    "version": 3
   },
   "file_extension": ".py",
   "mimetype": "text/x-python",
   "name": "python",
   "nbconvert_exporter": "python",
   "pygments_lexer": "ipython3",
   "version": "3.9.12"
  }
 },
 "nbformat": 4,
 "nbformat_minor": 5
}
