{
 "cells": [
  {
   "cell_type": "markdown",
   "id": "3dc34a97-4085-4fa6-86f6-bcc0c7976e12",
   "metadata": {},
   "source": [
    "# Intro to Scientific Programming\n",
    "By G Hosseinzadeh 2025 Apr 15"
   ]
  },
  {
   "cell_type": "markdown",
   "id": "123f13f8-e837-47f8-876b-fc7f5c0b2479",
   "metadata": {},
   "source": [
    "Let's imagine you want to generate synthetic spectra of different types of stars. The figure below shows approximate temperature and radius ranges for each type. In reality they have some absorption lines (shown at left), but for now let's approximate them as perfect blackbody emitters."
   ]
  },
  {
   "cell_type": "markdown",
   "id": "58dc0958-a8fb-4dab-84ff-a97623afc499",
   "metadata": {},
   "source": [
    "![main sequence stars](https://upload.wikimedia.org/wikipedia/commons/3/37/Stellar_Classification_Chart.png)  \n",
    "Credit: Pablo Carlos Budassi (Wikimedia.org)"
   ]
  },
  {
   "cell_type": "markdown",
   "id": "8e62c134-dae0-4295-80aa-8ffd7a40f433",
   "metadata": {},
   "source": [
    "The Planck function gives the spectral radiance $(B_\\lambda \\equiv \\frac{dE}{dt\\,d\\lambda\\,dA\\,d\\Omega})$ of the stellar photosphere for a given temperature:\n",
    "$$B_\\lambda = \\frac{2 h c^2}{\\lambda^5} \\frac{1}{\\exp\\left(\\frac{h c}{\\lambda k_B T}\\right) - 1}$$\n",
    "\n",
    "Spectral flux $(F_\\lambda \\equiv \\frac{dE}{dt\\,d\\lambda\\,dA})$ is the integral of the component of the spectral radiance **in the direction of the observer** $(\\cos\\theta)$:\n",
    "$$F_\\lambda = \\iint B_\\lambda \\cos\\theta \\,d\\Omega = B_\\lambda \\int_0^{2\\pi} \\int_0^{\\pi/2} \\cos\\theta \\sin\\theta \\,d\\theta \\,d\\phi = \\pi B_\\lambda$$\n",
    "\n",
    "Spectral luminosity $(L_\\lambda \\equiv \\frac{dE}{dt\\,d\\lambda})$ is the integral over the surface area of the stellar photosphere:\n",
    "$$L_\\lambda = \\iint F_\\lambda \\,dA = F_\\lambda \\int_0^{2\\pi} \\int_{0}^{\\pi} R^2 \\sin\\theta \\,d\\theta \\,d\\phi = 4 \\pi R^2 F_\\lambda$$\n",
    "\n",
    "Put that all together:\n",
    "$$L_\\lambda = \\frac{8 \\pi^2 R^2 h c^2}{\\lambda^5} \\frac{1}{\\exp\\left(\\frac{h c}{\\lambda k_B T}\\right) - 1}$$\n",
    "\n",
    "This gives you the spectral luminosity as a function of wavelength $\\lambda$ for a star with temperature $T$ and radius $R$. We're going to implement this equation in Python in three different ways:\n",
    "* using only the built-in math module (this contains the constant $\\pi$ and the exponential function)\n",
    "* using NumPy arrays\n",
    "* using Astropy quantities\n",
    "\n",
    "Then calculate spectra for each of the 7 classes of stars (OBAFGKM). In each case, plot the resulting spectra ($L_\\lambda$ vs. $\\lambda$) to check your work. (Hint: a logarithmic $y$-axis might help.)"
   ]
  },
  {
   "cell_type": "code",
   "execution_count": 125,
   "id": "02150d82-ce52-49f3-9c8e-0e0d50f238b6",
   "metadata": {},
   "outputs": [],
   "source": [
    "import matplotlib.pyplot as plt  # we'll learn more about this next time; for now just use plt.plot(x, y)"
   ]
  },
  {
   "cell_type": "markdown",
   "id": "adbc6232-d9b4-4658-a271-57eeb048cd7e",
   "metadata": {},
   "source": [
    "## Using only the built-in math module"
   ]
  },
  {
   "cell_type": "code",
   "execution_count": 126,
   "id": "ef1bd97e-2c65-47fd-b7ff-de3ad6c49b2f",
   "metadata": {},
   "outputs": [],
   "source": [
    "import math\n",
    "\n",
    "# physical constants\n",
    "R_SUN = 6.96e8  # m\n",
    "C_LIGHT = 3.00e8  # m / s\n",
    "H_PLANCK = 6.63e-34  # J / Hz\n",
    "K_BOLTZMANN = 1.38e-23  # J / K"
   ]
  },
  {
   "cell_type": "code",
   "execution_count": 130,
   "id": "4db19f21",
   "metadata": {},
   "outputs": [
    {
     "name": "stdout",
     "output_type": "stream",
     "text": [
      "1.6 ms ± 20.8 µs per loop (mean ± std. dev. of 7 runs, 1,000 loops each)\n"
     ]
    },
    {
     "data": {
      "image/png": "[encoded data removed]",
      "text/plain": [
       "<Figure size 432x288 with 1 Axes>"
      ]
     },
     "metadata": {
      "needs_background": "light"
     },
     "output_type": "display_data"
    }
   ],
   "source": [
    "%%timeit\n",
    "\n",
    "R_SUN = 6.96e8  # m\n",
    "C_LIGHT = 3.00e8  # m / s\n",
    "H_PLANCK = 6.63e-34  # J / Hz\n",
    "K_BOLTZMANN = 1.38e-23  # J / K\n",
    "\n",
    "wavelengths = [400, 450, 500, 550, 600, 650]\n",
    "\n",
    "temperatures = {0: [24000, 25000, 26000, 27000, 28000, 29000],\n",
    "                1: [9700, 10000, 15000, 20000, 25000, 30000],\n",
    "                2: [7200, 7700, 8200, 8700, 9200, 9700],\n",
    "                3: [5700, 6000, 6300, 6600, 6900, 7200],\n",
    "                4: [4900, 5000, 5100, 5300, 5500, 5700],\n",
    "                5: [3400, 3700, 4000, 4300, 4500, 4900],\n",
    "                6: [2100, 2300, 2500, 2700, 3000, 3400]}\n",
    "\n",
    "radii = {0: [4, 4.5, 5, 5.5, 6, 6.6],\n",
    "         1: [1.8, 2, 3, 4, 5, 6.6],\n",
    "         2: [1.4, 1.45, 1.5, 1.6, 1.7, 1.8],\n",
    "         3: [1.1, 1.15, 1.2, 1.3, 1.35, 1.4],\n",
    "         4: [0.9, 0.95, 1, 1.05, 1.07, 1.1],\n",
    "         5: [0.7, 0.72, 0.75, 0.8, 0.85, 0.9],\n",
    "         6: [0.1, 0.2, 0.3, 0.4, 0.5, 0.6]}\n",
    "\n",
    "def lumplotter(wvlngth, temp, rad):\n",
    "    expo = (H_PLANCK * C_LIGHT) / (wvlngth * K_BOLTZMANN * temp)\n",
    "    lum = (8 * (3.14 ** 2) * (rad ** 2) * \n",
    "           H_PLANCK * (C_LIGHT) ** 2) / (wvlngth ** 5) / ((math.e ** (expo)) - 1)\n",
    "    return lum\n",
    "\n",
    "luminosity = {}\n",
    "\n",
    "for n in range(0,7):\n",
    "    lum = []\n",
    "    for i in range(len(wavelengths)):\n",
    "        lumindex = lumplotter(wavelengths[i], temperatures[n][i], radii[n][i])\n",
    "        lum.append(lumindex)\n",
    "    luminosity[n] = lum\n",
    "    \n",
    "for n in range(0,7):\n",
    "    plt.plot(wavelengths, luminosity[n])\n",
    "    plt.xlabel('Wavelength')\n",
    "    plt.ylabel('Luminosity')"
   ]
  },
  {
   "cell_type": "markdown",
   "id": "c804160b",
   "metadata": {},
   "source": [
    "I know the units are wrong but I don't have time to convert right now :("
   ]
  },
  {
   "cell_type": "markdown",
   "id": "a144859c-a025-4cf9-9d66-3210b1fcddbf",
   "metadata": {},
   "source": [
    "## Now with NumPy Arrays"
   ]
  },
  {
   "cell_type": "code",
   "execution_count": 119,
   "id": "92d04b69-4aca-4900-8b33-123d4c66b488",
   "metadata": {},
   "outputs": [],
   "source": [
    "import numpy as np\n",
    "\n",
    "R_SUN = 6.96e8  # m\n",
    "C_LIGHT = 3.00e8  # m / s\n",
    "H_PLANCK = 6.63e-34  # J / Hz\n",
    "K_BOLTZMANN = 1.38e-23  # J / K"
   ]
  },
  {
   "cell_type": "code",
   "execution_count": 131,
   "id": "58e3ce4f-5225-4df4-821e-262fb6f7b5a9",
   "metadata": {},
   "outputs": [
    {
     "name": "stdout",
     "output_type": "stream",
     "text": [
      "1.99 ms ± 71 µs per loop (mean ± std. dev. of 7 runs, 100 loops each)\n"
     ]
    },
    {
     "data": {
      "image/png": "[encoded data removed]",
      "text/plain": [
       "<Figure size 432x288 with 1 Axes>"
      ]
     },
     "metadata": {
      "needs_background": "light"
     },
     "output_type": "display_data"
    }
   ],
   "source": [
    "%%timeit\n",
    "\n",
    "R_SUN = 6.96e8  # m\n",
    "C_LIGHT = 3.00e8  # m / s\n",
    "H_PLANCK = 6.63e-34  # J / Hz\n",
    "K_BOLTZMANN = 1.38e-23  # J / K\n",
    "\n",
    "wavelengths = np.linspace(400e-9, 650e-9, 6)\n",
    "\n",
    "temperatures = {0: np.linspace(24000, 29000, 6),\n",
    "                1: np.linspace(9700, 30000, 6),\n",
    "                2: np.linspace(7200, 9700, 6),\n",
    "                3: np.linspace(5700, 7200, 6),\n",
    "                4: np.linspace(4900, 5700, 6),\n",
    "                5: np.linspace(3400, 4900, 6),\n",
    "                6: np.linspace(2100, 3400, 6)}\n",
    "\n",
    "radii = {0: R_SUN * np.linspace(4.5, 6.6, 6),\n",
    "    1: R_SUN * np.linspace(1.8, 6.6, 6),\n",
    "    2: R_SUN * np.linspace(1.4, 1.8, 6),\n",
    "    3: R_SUN * np.linspace(1.1, 1.4, 6),\n",
    "    4: R_SUN * np.linspace(0.9, 1.1, 6),\n",
    "    5: R_SUN * np.linspace(0.7, 0.9, 6),\n",
    "    6: R_SUN * np.linspace(0.1, 0.6, 6)}\n",
    "\n",
    "def lumplotter(wvlngth, temp, rad):\n",
    "    expo = (H_PLANCK * C_LIGHT) / (wvlngth * K_BOLTZMANN * temp)\n",
    "    lum = (8 * (np.pi ** 2) * (rad ** 2) * \n",
    "           H_PLANCK * (C_LIGHT) ** 2) / (wvlngth ** 5) / (((math.e ** expo) - 1))\n",
    "    return lum\n",
    "\n",
    "luminosity = {}\n",
    "\n",
    "for n in range(0,7):\n",
    "    lum = []\n",
    "    for i in range(len(wavelengths)):\n",
    "        lumindex = lumplotter(wavelengths[i], temperatures[n][i], radii[n][i])\n",
    "        lum.append(lumindex)\n",
    "    luminosity[n] = lum\n",
    "    \n",
    "for n in range(0,7):\n",
    "    plt.plot(wavelengths, luminosity[n])\n",
    "    plt.xlabel('Wavelength')\n",
    "    plt.ylabel('Luminosity')"
   ]
  },
  {
   "cell_type": "markdown",
   "id": "c0ca6a41-e26f-4488-ab30-2ab8e5b8a7bb",
   "metadata": {},
   "source": [
    "## Now with Astropy Quantities"
   ]
  },
  {
   "cell_type": "code",
   "execution_count": 68,
   "id": "90986067-a38a-442c-986e-38b1d9fc9efe",
   "metadata": {},
   "outputs": [
    {
     "data": {
      "text/plain": [
       "<astropy.visualization.units.quantity_support.<locals>.MplQuantityConverter at 0x7ff21182bee0>"
      ]
     },
     "execution_count": 68,
     "metadata": {},
     "output_type": "execute_result"
    }
   ],
   "source": [
    "from astropy import units as u\n",
    "from astropy import constants as const\n",
    "from astropy.visualization import quantity_support\n",
    "quantity_support()  "
   ]
  },
  {
   "cell_type": "code",
   "execution_count": 132,
   "id": "a3c3ea0c",
   "metadata": {},
   "outputs": [
    {
     "name": "stdout",
     "output_type": "stream",
     "text": [
      "14.3 ms ± 345 µs per loop (mean ± std. dev. of 7 runs, 100 loops each)\n"
     ]
    },
    {
     "data": {
      "image/png": "[encoded data removed]",
      "text/plain": [
       "<Figure size 432x288 with 1 Axes>"
      ]
     },
     "metadata": {
      "needs_background": "light"
     },
     "output_type": "display_data"
    }
   ],
   "source": [
    "%%timeit\n",
    "\n",
    "R_SUN = 6.96e8 * u.m\n",
    "C_LIGHT = 3.00e8 * u.m / u.s \n",
    "H_PLANCK = 6.63e-34 * u.J / u.Hz\n",
    "K_BOLTZMANN = 1.38e-23 * u.J / u.K\n",
    "\n",
    "\n",
    "wavelengths =  np.linspace(400e-9, 650e-9, 6) * u.m\n",
    "\n",
    "temperatures = {\n",
    "    0: np.linspace(24000, 29000, 6) * u.K,\n",
    "    1: np.linspace(9700, 30000, 6) * u.K,\n",
    "    2: np.linspace(7200, 9700, 6) * u.K,\n",
    "    3: np.linspace(5700, 7200, 6) * u.K,\n",
    "    4: np.linspace(4900, 5700, 6) * u.K,\n",
    "    5: np.linspace(3400, 4900, 6) * u.K,\n",
    "    6: np.linspace(2100, 3400, 6) * u.K}\n",
    "\n",
    "radii = {\n",
    "    0: R_SUN * np.linspace(4.5, 6.6, 6),\n",
    "    1: R_SUN * np.linspace(1.8, 6.6, 6),\n",
    "    2: R_SUN * np.linspace(1.4, 1.8, 6),\n",
    "    3: R_SUN * np.linspace(1.1, 1.4, 6),\n",
    "    4: R_SUN * np.linspace(0.9, 1.1, 6),\n",
    "    5: R_SUN * np.linspace(0.7, 0.9, 6),\n",
    "    6: R_SUN * np.linspace(0.1, 0.6, 6)}\n",
    "\n",
    "def lumplotter(wvlngth, temp, rad):\n",
    "    expo = (H_PLANCK * C_LIGHT) / (wvlngth * K_BOLTZMANN * temp)\n",
    "    expoval = expo.to_value(u.dimensionless_unscaled)\n",
    "    lum = (8 * (np.pi ** 2) * (rad ** 2) * H_PLANCK * (C_LIGHT ** 2)) / \\\n",
    "          (wvlngth ** 5 * ((np.exp(expoval)) - 1))\n",
    "    return lum.to(u.W / u.m)\n",
    "\n",
    "luminosity = {}\n",
    "for n in range(7):\n",
    "    lum = []\n",
    "    for i in range(len(wavelengths)):\n",
    "        lumindex = lumplotter(wavelengths[i], temperatures[n][i], radii[n][i])\n",
    "        lum.append(lumindex)\n",
    "    luminosity[n] = lum\n",
    "\n",
    "for n in range(7):\n",
    "    plt.plot(wavelengths.to_value(u.m), \n",
    "             [l.to_value(u.W / u.m) for l in luminosity[n]])\n",
    "    plt.xlabel('Wavelength')\n",
    "    plt.ylabel('Luminosity')"
   ]
  },
  {
   "cell_type": "markdown",
   "id": "f9b54db7-dc14-43c4-a68a-82faeef02413",
   "metadata": {},
   "source": [
    "## Compare the performance of these three methods\n",
    "Add the `%%timeit` magic command at the top of each calculation cell to see how long it takes to run. Which is fastest? Which is most convenient?\n",
    "\n",
    "Now increase the number of wavelength samples you are using by a factor of 10. How does this change your timing results?\n",
    "\n",
    "In reality, which one would you use if you had to do this calculation for 7 stars? Which one would you use if you had to do this calculation for a billion stars (the size of the Gaia catalog)?"
   ]
  },
  {
   "cell_type": "markdown",
   "id": "a60f3960-0585-4f4c-9c70-1bffacc84a7e",
   "metadata": {},
   "source": [
    "-Built-in-math: 1.6 ms ± 20.8 µs per loop\n",
    "\n",
    "-Numpy: 1.99 ms ± 71 µs per loop\n",
    "\n",
    "-Astropy: 14.3 ms ± 345 µs per loop\n",
    "\n",
    "The built-in math module is the fastest, but Astropy could be most convenient as it uses units"
   ]
  },
  {
   "cell_type": "markdown",
   "id": "63b18ed7-f3be-477a-8021-b273a0eb563f",
   "metadata": {},
   "source": [
    "## Save your results using an Astropy Table"
   ]
  },
  {
   "cell_type": "code",
   "execution_count": null,
   "id": "a647526f-b01c-4e0b-baaa-c175ed87c3aa",
   "metadata": {},
   "outputs": [],
   "source": [
    "from astropy.table import Table"
   ]
  },
  {
   "cell_type": "code",
   "execution_count": null,
   "id": "fd90f939-0743-4c2a-b7de-238974e207ae",
   "metadata": {},
   "outputs": [],
   "source": [
    "table =  # create an astropy table containing your results\n",
    "table  # look at the results"
   ]
  },
  {
   "cell_type": "code",
   "execution_count": null,
   "id": "4ff43aef-9ddf-49ee-9e0d-b9844f8a4f50",
   "metadata": {},
   "outputs": [],
   "source": [
    "# save your table to a file on your hard drive"
   ]
  },
  {
   "cell_type": "code",
   "execution_count": null,
   "id": "8e38c909-70c9-42a8-9fd9-2377e237306f",
   "metadata": {},
   "outputs": [],
   "source": [
    "table2 =  # read in the file you just saved\n",
    "table2  # look at the results"
   ]
  },
  {
   "cell_type": "code",
   "execution_count": null,
   "id": "3b17b47f-6576-4aac-aefd-3e584eb0666a",
   "metadata": {},
   "outputs": [],
   "source": []
  }
 ],
 "metadata": {
  "kernelspec": {
   "display_name": "Python 3 (ipykernel)",
   "language": "python",
   "name": "python3"
  },
  "language_info": {
   "codemirror_mode": {
    "name": "ipython",
    "version": 3
   },
   "file_extension": ".py",
   "mimetype": "text/x-python",
   "name": "python",
   "nbconvert_exporter": "python",
   "pygments_lexer": "ipython3",
   "version": "3.9.12"
  }
 },
 "nbformat": 4,
 "nbformat_minor": 5
}
